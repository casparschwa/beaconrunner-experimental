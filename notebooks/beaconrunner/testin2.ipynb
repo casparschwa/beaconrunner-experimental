{
 "metadata": {
  "language_info": {
   "codemirror_mode": {
    "name": "ipython",
    "version": 3
   },
   "file_extension": ".py",
   "mimetype": "text/x-python",
   "name": "python",
   "nbconvert_exporter": "python",
   "pygments_lexer": "ipython3",
   "version": "3.8.10"
  },
  "orig_nbformat": 2,
  "kernelspec": {
   "name": "python3",
   "display_name": "Python 3.8.10  ('venv': venv)"
  },
  "metadata": {
   "interpreter": {
    "hash": "5f5720dd240b5e796de15b652744d3b54f1f4ff0dc16c45bb77990806d2c1353"
   }
  },
  "interpreter": {
   "hash": "5f5720dd240b5e796de15b652744d3b54f1f4ff0dc16c45bb77990806d2c1353"
  }
 },
 "nbformat": 4,
 "nbformat_minor": 2,
 "cells": [
  {
   "cell_type": "code",
   "execution_count": 1,
   "metadata": {},
   "outputs": [],
   "source": [
    "from constants import SECONDS_PER_DAY, GENESIS_EPOCH, SLOTS_PER_HISTORICAL_ROOT, MAX_VALIDATORS_PER_COMMITTEE\n",
    "from specs import (\n",
    "    BeaconState, BeaconBlock, BeaconBlockHeader, BeaconBlockBody, SignedBeaconBlock,\n",
    "    Deposit, DepositData, Checkpoint, AttestationData, Attestation,\n",
    "    initialize_beacon_state_from_eth1, get_block_root, get_block_root_at_slot,\n",
    "    process_slots, process_block,\n",
    "    get_current_epoch, get_previous_epoch, compute_start_slot_at_epoch, compute_epoch_at_slot,\n",
    "    get_total_active_balance, get_committee_assignment, get_active_validator_indices, is_valid_genesis_state\n",
    ")\n",
    "from ssz_impl import (hash_tree_root, signing_root)\n",
    "from ssz_typing import Bitlist\n",
    "from hash_function import hash\n",
    "from eth2 import eth_to_gwei\n",
    "\n",
    "import secrets\n",
    "\n",
    "# cadCAD configuration modules\n",
    "from cadCAD.configuration.utils import config_sim\n",
    "from cadCAD.configuration import Experiment\n",
    "\n",
    "# cadCAD simulation engine modules\n",
    "from cadCAD.engine import ExecutionMode, ExecutionContext\n",
    "from cadCAD.engine import Executor\n",
    "\n",
    "from cadCAD import configs\n",
    "\n",
    "import pandas as pd\n",
    "import matplotlib_inline"
   ]
  },
  {
   "source": [
    "## Process with attestations\n",
    "\n",
    "We create new policies to make validators attest on the blocks of the beacon chain. Attestations are \"votes\" in the FFG gadget, committing to checkpoints and beacon chain blocks. _All_ active validators are called on to produce one attestation during each epoch. Each validator is assigned to _one_ slot to make the attestation at, preferably right after they have received the block proposed for that slot.\n",
    "\n",
    "So attestations should contain:\n",
    "- A _source_ attribute: the last justified checkpoint the validator knows about.\n",
    "- A _target_ attribute: the last non-justified checkpoint the validator knows about.\n",
    "- A _head_ attribute: what the validator sees as the current tip of the beacon chain, preferably the block proposed for their assigned slot.\n",
    "- A _slot_ attribute: the slot assigned to the validator.\n",
    "\n",
    "Admittedly, we are cheating a bit here. Since we assume our validators are honest and there is no latency, they are instantly up-to-date with the latest chain state, so we can use the `BeaconState` attributes to form validator attestations. In reality, validators should run the fork choice to decide which is the head of the beacon chain.\n",
    "\n",
    "We start at some state $\\omega^+[s-1]$, i.e., the post-state of slot $s-1$.\n",
    "\n",
    "1. **(State update)** We move the state from $\\omega^+[s-1]$ to $\\omega^-[s]$.\n",
    "2. **(Policy)** Validators at state $\\omega^-[s]$ make attestations for slot $s-1$. These attestations contain a source and target for their FFG vote and the head of the chain according to their view of the beacon chain (in this case, $b_{s-1}$).\n",
    "3. **(State update)** These attestations are kept in the simulation state space as `current_slot_attestations`.\n",
    "4. **(Policy)** Someone proposes a block $b_s$ at slot $s$. Note that $b_s$ contains attestations made by validators in committees at slot $s-1$, which are kept in `current_slot_attestations`.\n",
    "5. **(State update)** The state transitions to $\\omega^+[s]$ when the block is processed."
   ],
   "cell_type": "markdown",
   "metadata": {}
  },
  {
   "source": [
    "### Process slot\n",
    "\n",
    "The arguments of this function are given to us by the cadCAD execution environment. `s` holds the current state of the simulation, where `s['beacon_state']` returns the current beacon state. Remember that we had set the initial state $\\omega^+[0]$ as the `beacon_state` attribute of the `initial_conditions` dictionary."
   ],
   "cell_type": "markdown",
   "metadata": {}
  },
  {
   "cell_type": "code",
   "execution_count": 2,
   "metadata": {},
   "outputs": [],
   "source": [
    "# First we need to update the slot\n",
    "# This is a state update function\n",
    "def state_process_slots(_params, substep, sH, s, _input, **kwargs):\n",
    "    \n",
    "    state = s['beacon_state']\n",
    "    process_slots(state=state, slot=state.slot + 1)\n",
    "\n",
    "    return ('beacon_state', state)"
   ]
  },
  {
   "source": [
    "### Attestation policy\n",
    "\n",
    "Let's focus on the new step here, step \\#2. We first need to create honest attestations from validators."
   ],
   "cell_type": "markdown",
   "metadata": {}
  },
  {
   "cell_type": "code",
   "execution_count": 3,
   "metadata": {},
   "outputs": [],
   "source": [
    "def attest(state, validator_index):\n",
    "\n",
    "    # In Barnabe's code attestors attest to the block from the previous slot (having already \n",
    "    # processed that block, meaning it's cached).\n",
    "\n",
    "    # Given state w-[s], validators in committees of slot `s-1` form their attestations\n",
    "    # In several places here, we need to check whether `s` is the first slot of a new epoch.\n",
    "\n",
    "    current_epoch = get_current_epoch(state)\n",
    "    previous_epoch = get_previous_epoch(state)\n",
    "\n",
    "    # We are assuming honest attesting only. \n",
    "    # Hence, we can assume that validators attesting during some epoch E, they choose the\n",
    "    # first block of E as their target and the first block of E-1 as their source. \n",
    "    \n",
    "    # We need to check that whether w-[s] is in a new epoch... \n",
    "\n",
    "    # If slot is in new epoch, remember that we want to attest to the block of the past epoch\n",
    "    if state.slot == compute_start_slot_at_epoch(current_epoch):\n",
    "        \n",
    "        # Get committee assignment from slot s-1 in past epoch... \n",
    "        (committee, committee_index, committee_slot) = get_committee_assignment(\n",
    "            state, previous_epoch, validator_index\n",
    "            )\n",
    "        block_root = get_block_root_at_slot(state, committee_slot)\n",
    "\n",
    "        src_checkpoint = Checkpoint(\n",
    "            epoch=state.previous_justified_checkpoint.epoch,\n",
    "            root=state.previous_justified_checkpoint.root\n",
    "        )\n",
    "\n",
    "        tgt_checkpoint = Checkpoint(\n",
    "            epoch=previous_epoch,\n",
    "            # get_block_root() returns the blockroot at the start of a recent ``epoch``\n",
    "            root=get_block_root(state, previous_epoch)\n",
    "        )\n",
    "\n",
    "    # slot s is still in same epoch as slot (s-1)\n",
    "    else:\n",
    "        # Get committee assignment from slot s-1 in past epoch... \n",
    "        (committee, committee_index, committee_slot) = get_committee_assignment(\n",
    "            state, current_epoch, validator_index\n",
    "            )\n",
    "        block_root = get_block_root_at_slot(state, committee_slot)\n",
    "\n",
    "        src_checkpoint = Checkpoint(\n",
    "            epoch=state.current_justified_checkpoint.epoch,\n",
    "            root=state.current_justified_checkpoint.root\n",
    "        )\n",
    "\n",
    "        tgt_checkpoint = Checkpoint(\n",
    "            epoch=current_epoch,\n",
    "            root=get_block_root(state, current_epoch)\n",
    "        )\n",
    "\n",
    "    att_data = AttestationData(\n",
    "        slot=committee_slot,\n",
    "        index=committee_index,\n",
    "        beacon_block_root=block_root,\n",
    "        source=src_checkpoint,\n",
    "        target=tgt_checkpoint,\n",
    "    )\n",
    "\n",
    "    print(\"Attestation for source epoch {} and target epoch {}\".format(src_checkpoint.epoch, tgt_checkpoint.epoch))\n",
    "\n",
    "    committee_size = len(committee)\n",
    "    index_in_committee = committee.index(validator_index)\n",
    "    aggregation_bits = Bitlist[MAX_VALIDATORS_PER_COMMITTEE](*([0] * committee_size))\n",
    "    aggregation_bits[index_in_committee] = True # set the aggregation bits of the validator to True\n",
    "    attestation = Attestation(\n",
    "        aggregation_bits=aggregation_bits,\n",
    "        data=att_data\n",
    "    )\n",
    "    \n",
    "    return attestation"
   ]
  },
  {
   "source": [
    "We can use this `attest` function in our policy function for step \\#2, `policy_attest`."
   ],
   "cell_type": "markdown",
   "metadata": {}
  },
  {
   "source": [
    "def policy_attest(_params, substep, sH, s, **kwargs):\n",
    "\n",
    "    '''\n",
    "    Collect all attestation formed for slot (s-1)\n",
    "    '''\n",
    "\n",
    "    state = s['beacon_state']\n",
    "    current_epoch = get_current_epoch(state)\n",
    "    previous_epoch = get_previous_epoch(state)\n",
    "\n",
    "    # We are in a new epoch...\n",
    "    if state.slot == compute_start_slot_at_epoch(current_epoch):\n",
    "        validator_epoch = previous_epoch\n",
    "    else: # We're still in the same epoch\n",
    "        validator_epoch = current_epoch\n",
    "    \n",
    "    # Let's find out who was supposed to be attesting \n",
    "    active_validator_indices = get_active_validator_indices(state, validator_epoch)\n",
    "    slot_attestations = [] # We'll store attestation in here\n",
    "\n",
    "    # check for each validator which committee they belong to\n",
    "    for validator_index in active_validator_indices:\n",
    "        (committee, committee_index, committee_slot) = get_committee_assignment(\n",
    "            state, validator_epoch, validator_index\n",
    "        )\n",
    "        # if validator belongs to committee supposed to attest, attest!\n",
    "        if committee_slot+1 == state.slot: #remember we are attesting one slot late...\n",
    "            print(\"Validator {} attesting for slot {}\".format(validator_index, committee_slot))\n",
    "            attestation = attest(state, validator_index)\n",
    "            slot_attestations.append(attestation)\n",
    "\n",
    "    return {'slot_attestations': slot_attestations}"
   ],
   "cell_type": "code",
   "metadata": {},
   "execution_count": 4,
   "outputs": []
  },
  {
   "source": [
    "### Keep attestations in state\n",
    "\n",
    "Step \\#3 is easily handled with one single state update."
   ],
   "cell_type": "markdown",
   "metadata": {}
  },
  {
   "cell_type": "code",
   "execution_count": 5,
   "metadata": {},
   "outputs": [],
   "source": [
    "def state_update_current_slot_attestations(_params, substep, sH, s, _input, **kwargs):\n",
    "    # just dump the policy input into a state variable current_slot_attestations... \n",
    "    return('current_slot_attestations', _input['slot_attestations'])"
   ]
  },
  {
   "source": [
    "### Block proposal policy\n",
    "\n",
    "We must update our block proposal policy to include latest attestations. This time, we do not include offline block proposers."
   ],
   "cell_type": "markdown",
   "metadata": {}
  },
  {
   "cell_type": "code",
   "execution_count": 6,
   "metadata": {},
   "outputs": [],
   "source": [
    "d = {\"apple\": (\"apple\", 2), \"banana\": (\"banana\",5)}"
   ]
  },
  {
   "cell_type": "code",
   "execution_count": 7,
   "metadata": {},
   "outputs": [
    {
     "output_type": "stream",
     "name": "stdout",
     "text": [
      "[]\n[1, 2, 3]\n[1, 2, 3, 0, 1, 6]\n"
     ]
    }
   ],
   "source": [
    "a = []\n",
    "print(a)\n",
    "a += [1,2,3]\n",
    "print(a)\n",
    "a += [0,1,6]\n",
    "print(a)"
   ]
  },
  {
   "cell_type": "code",
   "execution_count": 8,
   "metadata": {},
   "outputs": [],
   "source": [
    "# Next we need a way to propose a block, which can then be processed (state update)\n",
    "# This is a policy function\n",
    "def policy_propose_block(_params, substep, sH, s, **kwargs):\n",
    "    ''' \n",
    "    Given state w-[s], propose a block for slot s. \n",
    "\n",
    "    This time round we are including attestations in the beacon_block_body!\n",
    "    '''\n",
    "    \n",
    "    state = s['beacon_state']\n",
    "    attestations = s['current_slot_attestations']\n",
    "\n",
    "    # Propose a block for slot s\n",
    "    beacon_block_body = BeaconBlockBody(\n",
    "        attestations=attestations\n",
    "    )\n",
    "    \n",
    "    beacon_block = BeaconBlock(\n",
    "        slot=state.slot,\n",
    "        #proposer_index=,\n",
    "        parent_root=get_block_root_at_slot(state, state.slot - 1), # to ensure this block is a direct child of last block processed\n",
    "        # state_root= ,\n",
    "        body=beacon_block_body\n",
    "    )\n",
    "    signed_beacon_block = SignedBeaconBlock(message=beacon_block)\n",
    "\n",
    "    print(\"A validator proposed a block for slot {} (epoch: {})\".format(state.slot, compute_epoch_at_slot(state.slot)))\n",
    "\n",
    "    return {'block': signed_beacon_block}"
   ]
  },
  {
   "source": [
    "### Process block\n",
    "\n",
    "We also have a state update for this step, `state_process_block`, which we do not need to change."
   ],
   "cell_type": "markdown",
   "metadata": {}
  },
  {
   "cell_type": "code",
   "execution_count": 9,
   "metadata": {},
   "outputs": [],
   "source": [
    "def state_process_block(_params, substep, sH, s, _input, **kwargs):\n",
    "\n",
    "    state = s['beacon_state']\n",
    "    block = _input['block']\n",
    "\n",
    "    # if block is None:\n",
    "    #     # no change to the state\n",
    "    #     return ('beacon_state', state)\n",
    "    \n",
    "    # Process block and update state\n",
    "    process_block(state, block.message)\n",
    "\n",
    "    return ('beacon_state', state)"
   ]
  },
  {
   "source": [
    "## Putting it all together, PSUBs\n",
    "\n",
    "The previous three steps are recorded in the `block_proposal_psub` array. `psub` stands for _partial state updates blocks_, the building blocks of a cadCAD simulation."
   ],
   "cell_type": "markdown",
   "metadata": {}
  },
  {
   "cell_type": "code",
   "execution_count": 10,
   "metadata": {},
   "outputs": [],
   "source": [
    "partial_state_update_blocks = [\n",
    "    { #PSUB1\n",
    "        \"policies\": {},\n",
    "        \"variables\": {\n",
    "            \"beacon_state\": state_process_slots\n",
    "        }\n",
    "    },\n",
    "    { #PSUB2\n",
    "        \"policies\": {\n",
    "            \"action\": policy_attest\n",
    "        },\n",
    "        \"variables\": {\n",
    "            \"current_slot_attestations\": state_update_current_slot_attestations\n",
    "        }\n",
    "    },\n",
    "    { #PSUB3\n",
    "        \"policies\": {\n",
    "            \"action\": policy_propose_block\n",
    "        },\n",
    "        \"variables\": {\n",
    "            \"beacon_state\": state_process_block\n",
    "        }\n",
    "    }\n",
    "]"
   ]
  },
  {
   "source": [
    "### Let's create a genesis state"
   ],
   "cell_type": "markdown",
   "metadata": {}
  },
  {
   "cell_type": "code",
   "execution_count": 11,
   "metadata": {},
   "outputs": [],
   "source": [
    "# Initial deposits\n",
    "def get_initial_deposits(n):\n",
    "    return [Deposit(\n",
    "        data=DepositData(\n",
    "        amount=eth_to_gwei(32),\n",
    "        pubkey=secrets.token_bytes(48))\n",
    "    ) for i in range(n)]"
   ]
  },
  {
   "cell_type": "code",
   "execution_count": 12,
   "metadata": {},
   "outputs": [],
   "source": [
    "# Create genesis state\n",
    "number_validators = 10\n",
    "some_string = \"Actual string doesn't matter!\"\n",
    "block_hash = hash(some_string.encode(\"utf-8\"))\n",
    "eth1_timestamp = 1578009600\n",
    "\n",
    "genesis_state = initialize_beacon_state_from_eth1(block_hash, eth1_timestamp, get_initial_deposits(number_validators))"
   ]
  },
  {
   "source": [
    "In the specs, the first block is not proposed by a validator but obtained from the genesis state. We define a function to process the genesis block from the genesis state."
   ],
   "cell_type": "markdown",
   "metadata": {}
  },
  {
   "cell_type": "code",
   "execution_count": 13,
   "metadata": {},
   "outputs": [],
   "source": [
    "def process_genesis_block(genesis_state):\n",
    "    genesis_block = SignedBeaconBlock(\n",
    "        message=BeaconBlock(\n",
    "            state_root=hash_tree_root(genesis_state),\n",
    "            parent_root=hash_tree_root(genesis_state.latest_block_header)\n",
    "        )\n",
    "    )\n",
    "    process_block(genesis_state, genesis_block.message)\n",
    "    \n",
    "process_genesis_block(genesis_state)"
   ]
  },
  {
   "cell_type": "code",
   "execution_count": 14,
   "metadata": {},
   "outputs": [],
   "source": [
    "initial_conditions = {\n",
    "    'beacon_state': genesis_state,\n",
    "    'current_slot_attestations': []\n",
    "}\n",
    "\n",
    "simulation_parameters = {\n",
    "    'T': range(20), # number of time steps\n",
    "    'N': 1, # number of Monte Carlo runs\n",
    "    'M': {} # parameter sweep\n",
    "}"
   ]
  },
  {
   "cell_type": "code",
   "execution_count": 15,
   "metadata": {},
   "outputs": [],
   "source": [
    "# configure cadCAD\n",
    "experiment = Experiment()\n",
    "experiment.append_configs(\n",
    "    initial_state = initial_conditions,\n",
    "    partial_state_update_blocks = partial_state_update_blocks,\n",
    "    sim_configs = simulation_parameters\n",
    ")"
   ]
  },
  {
   "cell_type": "code",
   "execution_count": 16,
   "metadata": {},
   "outputs": [
    {
     "output_type": "stream",
     "name": "stderr",
     "text": [
      "Initializing configurations: 100%|██████████| 1/1 [00:00<00:00, 171.67it/s]\n",
      "                  ___________    ____\n",
      "  ________ __ ___/ / ____/   |  / __ \\\n",
      " / ___/ __` / __  / /   / /| | / / / /\n",
      "/ /__/ /_/ / /_/ / /___/ ___ |/ /_/ /\n",
      "\\___/\\__,_/\\__,_/\\____/_/  |_/_____/\n",
      "by cadCAD\n",
      "\n",
      "Execution Mode: local_proc\n",
      "Configuration Count: 1\n",
      "Dimensions of the first simulation: (Timesteps, Params, Runs, Vars) = (20, 0, 1, 2)\n",
      "Execution Method: local_simulations\n",
      "SimIDs   : [0]\n",
      "SubsetIDs: [0]\n",
      "Ns       : [0]\n",
      "ExpIDs   : [0]\n",
      "Execution Mode: single_threaded\n",
      "\n",
      "Validator 1 attesting for slot 0\n",
      "Attestation for source epoch 0 and target epoch 0\n",
      "Validator 5 attesting for slot 0\n",
      "Attestation for source epoch 0 and target epoch 0\n",
      "A validator proposed a block for slot 1 (epoch: 0)\n",
      "if-statement: target epoch: 0, source epoch: 0, current_justified_checkpoint epoch: 0, previous_justified_checkpoint epoch: 0\n",
      "if-statement: target epoch: 0, source epoch: 0, current_justified_checkpoint epoch: 0, previous_justified_checkpoint epoch: 0\n",
      "Validator 3 attesting for slot 1\n",
      "Attestation for source epoch 0 and target epoch 0\n",
      "Validator 6 attesting for slot 1\n",
      "Attestation for source epoch 0 and target epoch 0\n",
      "Validator 8 attesting for slot 1\n",
      "Attestation for source epoch 0 and target epoch 0\n",
      "A validator proposed a block for slot 2 (epoch: 0)\n",
      "if-statement: target epoch: 0, source epoch: 0, current_justified_checkpoint epoch: 0, previous_justified_checkpoint epoch: 0\n",
      "if-statement: target epoch: 0, source epoch: 0, current_justified_checkpoint epoch: 0, previous_justified_checkpoint epoch: 0\n",
      "if-statement: target epoch: 0, source epoch: 0, current_justified_checkpoint epoch: 0, previous_justified_checkpoint epoch: 0\n",
      "Validator 0 attesting for slot 2\n",
      "Attestation for source epoch 0 and target epoch 0\n",
      "Validator 4 attesting for slot 2\n",
      "Attestation for source epoch 0 and target epoch 0\n",
      "A validator proposed a block for slot 3 (epoch: 0)\n",
      "if-statement: target epoch: 0, source epoch: 0, current_justified_checkpoint epoch: 0, previous_justified_checkpoint epoch: 0\n",
      "if-statement: target epoch: 0, source epoch: 0, current_justified_checkpoint epoch: 0, previous_justified_checkpoint epoch: 0\n",
      "START PROCESS EPOCH 0\n",
      "not processing justification and finalization\n",
      "END PROCESS EPOCH\n",
      "Validator 2 attesting for slot 3\n",
      "Attestation for source epoch 0 and target epoch 0\n",
      "Validator 7 attesting for slot 3\n",
      "Attestation for source epoch 0 and target epoch 0\n",
      "Validator 9 attesting for slot 3\n",
      "Attestation for source epoch 0 and target epoch 0\n",
      "A validator proposed a block for slot 4 (epoch: 1)\n",
      "else-statement: target epoch: 0, source epoch: 0, current_justified_checkpoint epoch: 0, previous_justified_checkpoint epoch: 0\n",
      "else-statement: target epoch: 0, source epoch: 0, current_justified_checkpoint epoch: 0, previous_justified_checkpoint epoch: 0\n",
      "else-statement: target epoch: 0, source epoch: 0, current_justified_checkpoint epoch: 0, previous_justified_checkpoint epoch: 0\n",
      "Validator 4 attesting for slot 4\n",
      "Attestation for source epoch 0 and target epoch 1\n",
      "Validator 8 attesting for slot 4\n",
      "Attestation for source epoch 0 and target epoch 1\n",
      "A validator proposed a block for slot 5 (epoch: 1)\n",
      "if-statement: target epoch: 1, source epoch: 0, current_justified_checkpoint epoch: 0, previous_justified_checkpoint epoch: 0\n",
      "if-statement: target epoch: 1, source epoch: 0, current_justified_checkpoint epoch: 0, previous_justified_checkpoint epoch: 0\n",
      "Validator 2 attesting for slot 5\n",
      "Attestation for source epoch 0 and target epoch 1\n",
      "Validator 3 attesting for slot 5\n",
      "Attestation for source epoch 0 and target epoch 1\n",
      "Validator 7 attesting for slot 5\n",
      "Attestation for source epoch 0 and target epoch 1\n",
      "A validator proposed a block for slot 6 (epoch: 1)\n",
      "if-statement: target epoch: 1, source epoch: 0, current_justified_checkpoint epoch: 0, previous_justified_checkpoint epoch: 0\n",
      "if-statement: target epoch: 1, source epoch: 0, current_justified_checkpoint epoch: 0, previous_justified_checkpoint epoch: 0\n",
      "if-statement: target epoch: 1, source epoch: 0, current_justified_checkpoint epoch: 0, previous_justified_checkpoint epoch: 0\n",
      "Validator 1 attesting for slot 6\n",
      "Attestation for source epoch 0 and target epoch 1\n",
      "Validator 9 attesting for slot 6\n",
      "Attestation for source epoch 0 and target epoch 1\n",
      "A validator proposed a block for slot 7 (epoch: 1)\n",
      "if-statement: target epoch: 1, source epoch: 0, current_justified_checkpoint epoch: 0, previous_justified_checkpoint epoch: 0\n",
      "if-statement: target epoch: 1, source epoch: 0, current_justified_checkpoint epoch: 0, previous_justified_checkpoint epoch: 0\n",
      "START PROCESS EPOCH 1\n",
      "not processing justification and finalization\n",
      "END PROCESS EPOCH\n",
      "Validator 0 attesting for slot 7\n",
      "Attestation for source epoch 0 and target epoch 1\n",
      "Validator 5 attesting for slot 7\n",
      "Attestation for source epoch 0 and target epoch 1\n",
      "Validator 6 attesting for slot 7\n",
      "Attestation for source epoch 0 and target epoch 1\n",
      "A validator proposed a block for slot 8 (epoch: 2)\n",
      "else-statement: target epoch: 1, source epoch: 0, current_justified_checkpoint epoch: 0, previous_justified_checkpoint epoch: 0\n",
      "else-statement: target epoch: 1, source epoch: 0, current_justified_checkpoint epoch: 0, previous_justified_checkpoint epoch: 0\n",
      "else-statement: target epoch: 1, source epoch: 0, current_justified_checkpoint epoch: 0, previous_justified_checkpoint epoch: 0\n",
      "Validator 0 attesting for slot 8\n",
      "Attestation for source epoch 0 and target epoch 2\n",
      "Validator 6 attesting for slot 8\n",
      "Attestation for source epoch 0 and target epoch 2\n",
      "A validator proposed a block for slot 9 (epoch: 2)\n",
      "if-statement: target epoch: 2, source epoch: 0, current_justified_checkpoint epoch: 0, previous_justified_checkpoint epoch: 0\n",
      "if-statement: target epoch: 2, source epoch: 0, current_justified_checkpoint epoch: 0, previous_justified_checkpoint epoch: 0\n",
      "Validator 3 attesting for slot 9\n",
      "Attestation for source epoch 0 and target epoch 2\n",
      "Validator 5 attesting for slot 9\n",
      "Attestation for source epoch 0 and target epoch 2\n",
      "Validator 9 attesting for slot 9\n",
      "Attestation for source epoch 0 and target epoch 2\n",
      "A validator proposed a block for slot 10 (epoch: 2)\n",
      "if-statement: target epoch: 2, source epoch: 0, current_justified_checkpoint epoch: 0, previous_justified_checkpoint epoch: 0\n",
      "if-statement: target epoch: 2, source epoch: 0, current_justified_checkpoint epoch: 0, previous_justified_checkpoint epoch: 0\n",
      "if-statement: target epoch: 2, source epoch: 0, current_justified_checkpoint epoch: 0, previous_justified_checkpoint epoch: 0\n",
      "Validator 1 attesting for slot 10\n",
      "Attestation for source epoch 0 and target epoch 2\n",
      "Validator 8 attesting for slot 10\n",
      "Attestation for source epoch 0 and target epoch 2\n",
      "A validator proposed a block for slot 11 (epoch: 2)\n",
      "if-statement: target epoch: 2, source epoch: 0, current_justified_checkpoint epoch: 0, previous_justified_checkpoint epoch: 0\n",
      "if-statement: target epoch: 2, source epoch: 0, current_justified_checkpoint epoch: 0, previous_justified_checkpoint epoch: 0\n",
      "START PROCESS EPOCH 2\n",
      "old_previous 0\n",
      "old_current 0\n",
      "new current justified checkpoint 1\n",
      "new current justified checkpoint 2\n",
      "justification bits Bitvector[boolean, 4](1, 1, 0, 0)\n",
      "finalised checkpoint 0\n",
      "END PROCESS EPOCH\n",
      "Validator 2 attesting for slot 11\n",
      "Attestation for source epoch 0 and target epoch 2\n",
      "Validator 4 attesting for slot 11\n",
      "Attestation for source epoch 0 and target epoch 2\n",
      "Validator 7 attesting for slot 11\n",
      "Attestation for source epoch 0 and target epoch 2\n",
      "A validator proposed a block for slot 12 (epoch: 3)\n",
      "else-statement: target epoch: 2, source epoch: 0, current_justified_checkpoint epoch: 2, previous_justified_checkpoint epoch: 0\n",
      "else-statement: target epoch: 2, source epoch: 0, current_justified_checkpoint epoch: 2, previous_justified_checkpoint epoch: 0\n",
      "else-statement: target epoch: 2, source epoch: 0, current_justified_checkpoint epoch: 2, previous_justified_checkpoint epoch: 0\n",
      "Validator 6 attesting for slot 12\n",
      "Attestation for source epoch 2 and target epoch 3\n",
      "Validator 8 attesting for slot 12\n",
      "Attestation for source epoch 2 and target epoch 3\n",
      "A validator proposed a block for slot 13 (epoch: 3)\n",
      "if-statement: target epoch: 3, source epoch: 2, current_justified_checkpoint epoch: 2, previous_justified_checkpoint epoch: 0\n",
      "if-statement: target epoch: 3, source epoch: 2, current_justified_checkpoint epoch: 2, previous_justified_checkpoint epoch: 0\n",
      "Validator 0 attesting for slot 13\n",
      "Attestation for source epoch 2 and target epoch 3\n",
      "Validator 1 attesting for slot 13\n",
      "Attestation for source epoch 2 and target epoch 3\n",
      "Validator 2 attesting for slot 13\n",
      "Attestation for source epoch 2 and target epoch 3\n",
      "A validator proposed a block for slot 14 (epoch: 3)\n",
      "if-statement: target epoch: 3, source epoch: 2, current_justified_checkpoint epoch: 2, previous_justified_checkpoint epoch: 0\n",
      "if-statement: target epoch: 3, source epoch: 2, current_justified_checkpoint epoch: 2, previous_justified_checkpoint epoch: 0\n",
      "if-statement: target epoch: 3, source epoch: 2, current_justified_checkpoint epoch: 2, previous_justified_checkpoint epoch: 0\n",
      "Validator 3 attesting for slot 14\n",
      "Attestation for source epoch 2 and target epoch 3\n",
      "Validator 5 attesting for slot 14\n",
      "Attestation for source epoch 2 and target epoch 3\n",
      "A validator proposed a block for slot 15 (epoch: 3)\n",
      "if-statement: target epoch: 3, source epoch: 2, current_justified_checkpoint epoch: 2, previous_justified_checkpoint epoch: 0\n",
      "if-statement: target epoch: 3, source epoch: 2, current_justified_checkpoint epoch: 2, previous_justified_checkpoint epoch: 0\n",
      "START PROCESS EPOCH 3\n",
      "old_previous 0\n",
      "old_current 2\n",
      "new current justified checkpoint 2\n",
      "new current justified checkpoint 3\n",
      "justification bits Bitvector[boolean, 4](1, 1, 1, 0)\n",
      "finalised checkpoint 2\n",
      "END PROCESS EPOCH\n",
      "Validator 4 attesting for slot 15\n",
      "Attestation for source epoch 2 and target epoch 3\n",
      "Validator 7 attesting for slot 15\n",
      "Attestation for source epoch 2 and target epoch 3\n",
      "Validator 9 attesting for slot 15\n",
      "Attestation for source epoch 2 and target epoch 3\n",
      "A validator proposed a block for slot 16 (epoch: 4)\n",
      "else-statement: target epoch: 3, source epoch: 2, current_justified_checkpoint epoch: 3, previous_justified_checkpoint epoch: 2\n",
      "else-statement: target epoch: 3, source epoch: 2, current_justified_checkpoint epoch: 3, previous_justified_checkpoint epoch: 2\n",
      "else-statement: target epoch: 3, source epoch: 2, current_justified_checkpoint epoch: 3, previous_justified_checkpoint epoch: 2\n",
      "Validator 5 attesting for slot 16\n",
      "Attestation for source epoch 3 and target epoch 4\n",
      "Validator 8 attesting for slot 16\n",
      "Attestation for source epoch 3 and target epoch 4\n",
      "A validator proposed a block for slot 17 (epoch: 4)\n",
      "if-statement: target epoch: 4, source epoch: 3, current_justified_checkpoint epoch: 3, previous_justified_checkpoint epoch: 2\n",
      "if-statement: target epoch: 4, source epoch: 3, current_justified_checkpoint epoch: 3, previous_justified_checkpoint epoch: 2\n",
      "Validator 0 attesting for slot 17\n",
      "Attestation for source epoch 3 and target epoch 4\n",
      "Validator 3 attesting for slot 17\n",
      "Attestation for source epoch 3 and target epoch 4\n",
      "Validator 9 attesting for slot 17\n",
      "Attestation for source epoch 3 and target epoch 4\n",
      "A validator proposed a block for slot 18 (epoch: 4)\n",
      "if-statement: target epoch: 4, source epoch: 3, current_justified_checkpoint epoch: 3, previous_justified_checkpoint epoch: 2\n",
      "if-statement: target epoch: 4, source epoch: 3, current_justified_checkpoint epoch: 3, previous_justified_checkpoint epoch: 2\n",
      "if-statement: target epoch: 4, source epoch: 3, current_justified_checkpoint epoch: 3, previous_justified_checkpoint epoch: 2\n",
      "Validator 1 attesting for slot 18\n",
      "Attestation for source epoch 3 and target epoch 4\n",
      "Validator 6 attesting for slot 18\n",
      "Attestation for source epoch 3 and target epoch 4\n",
      "A validator proposed a block for slot 19 (epoch: 4)\n",
      "if-statement: target epoch: 4, source epoch: 3, current_justified_checkpoint epoch: 3, previous_justified_checkpoint epoch: 2\n",
      "if-statement: target epoch: 4, source epoch: 3, current_justified_checkpoint epoch: 3, previous_justified_checkpoint epoch: 2\n",
      "START PROCESS EPOCH 4\n",
      "old_previous 2\n",
      "old_current 3\n",
      "new current justified checkpoint 3\n",
      "new current justified checkpoint 4\n",
      "justification bits Bitvector[boolean, 4](1, 1, 1, 1)\n",
      "finalised checkpoint 3\n",
      "END PROCESS EPOCH\n",
      "Validator 2 attesting for slot 19\n",
      "Attestation for source epoch 3 and target epoch 4\n",
      "Flattening results:   2%|▏         | 1/61 [00:00<00:00, 336.14it/s]Validator 4 attesting for slot 19\n",
      "Attestation for source epoch 3 and target epoch 4\n",
      "Validator 7 attesting for slot 19\n",
      "Attestation for source epoch 3 and target epoch 4\n",
      "A validator proposed a block for slot 20 (epoch: 5)\n",
      "else-statement: target epoch: 4, source epoch: 3, current_justified_checkpoint epoch: 4, previous_justified_checkpoint epoch: 3\n",
      "else-statement: target epoch: 4, source epoch: 3, current_justified_checkpoint epoch: 4, previous_justified_checkpoint epoch: 3\n",
      "else-statement: target epoch: 4, source epoch: 3, current_justified_checkpoint epoch: 4, previous_justified_checkpoint epoch: 3\n",
      "Total execution time: 15.79s\n",
      "\n"
     ]
    }
   ],
   "source": [
    "# execute cadCAD\n",
    "exec_mode = ExecutionMode() #\n",
    "exec_context = ExecutionContext() # how to run simulation (single vs. multi threaded, etc.)\n",
    "simulation = Executor(exec_context=exec_context, configs=configs)\n",
    "# The `execute()` method returns a tuple; its first elements contains the raw results\n",
    "raw_result, tensor, sessions = simulation.execute() \n",
    "df = pd.DataFrame(raw_result)"
   ]
  },
  {
   "cell_type": "code",
   "execution_count": 17,
   "metadata": {},
   "outputs": [
    {
     "output_type": "execute_result",
     "data": {
      "text/plain": [
       "True"
      ]
     },
     "metadata": {},
     "execution_count": 17
    }
   ],
   "source": [
    "sum(df.iloc[0]['beacon_state'].balances)==sum(df.iloc[60]['beacon_state'].balances)"
   ]
  },
  {
   "cell_type": "code",
   "execution_count": 18,
   "metadata": {},
   "outputs": [
    {
     "output_type": "execute_result",
     "data": {
      "text/plain": [
       "                                         beacon_state  \\\n",
       "0   BeaconState\\n  genesis_time: 1578182400\\n  slo...   \n",
       "1   BeaconState\\n  genesis_time: 1578182400\\n  slo...   \n",
       "2   BeaconState\\n  genesis_time: 1578182400\\n  slo...   \n",
       "3   BeaconState\\n  genesis_time: 1578182400\\n  slo...   \n",
       "4   BeaconState\\n  genesis_time: 1578182400\\n  slo...   \n",
       "..                                                ...   \n",
       "56  BeaconState\\n  genesis_time: 1578182400\\n  slo...   \n",
       "57  BeaconState\\n  genesis_time: 1578182400\\n  slo...   \n",
       "58  BeaconState\\n  genesis_time: 1578182400\\n  slo...   \n",
       "59  BeaconState\\n  genesis_time: 1578182400\\n  slo...   \n",
       "60  BeaconState\\n  genesis_time: 1578182400\\n  slo...   \n",
       "\n",
       "                            current_slot_attestations  simulation  subset  \\\n",
       "0                                                  []           0       0   \n",
       "1                                                  []           0       0   \n",
       "2   [Attestation\\n  aggregation_bits: Bitlist[bool...           0       0   \n",
       "3   [Attestation\\n  aggregation_bits: Bitlist[bool...           0       0   \n",
       "4   [Attestation\\n  aggregation_bits: Bitlist[bool...           0       0   \n",
       "..                                                ...         ...     ...   \n",
       "56  [Attestation\\n  aggregation_bits: Bitlist[bool...           0       0   \n",
       "57  [Attestation\\n  aggregation_bits: Bitlist[bool...           0       0   \n",
       "58  [Attestation\\n  aggregation_bits: Bitlist[bool...           0       0   \n",
       "59  [Attestation\\n  aggregation_bits: Bitlist[bool...           0       0   \n",
       "60  [Attestation\\n  aggregation_bits: Bitlist[bool...           0       0   \n",
       "\n",
       "    run  substep  timestep  \n",
       "0     1        0         0  \n",
       "1     1        1         1  \n",
       "2     1        2         1  \n",
       "3     1        3         1  \n",
       "4     1        1         2  \n",
       "..  ...      ...       ...  \n",
       "56    1        2        19  \n",
       "57    1        3        19  \n",
       "58    1        1        20  \n",
       "59    1        2        20  \n",
       "60    1        3        20  \n",
       "\n",
       "[61 rows x 7 columns]"
      ],
      "text/html": "<div>\n<style scoped>\n    .dataframe tbody tr th:only-of-type {\n        vertical-align: middle;\n    }\n\n    .dataframe tbody tr th {\n        vertical-align: top;\n    }\n\n    .dataframe thead th {\n        text-align: right;\n    }\n</style>\n<table border=\"1\" class=\"dataframe\">\n  <thead>\n    <tr style=\"text-align: right;\">\n      <th></th>\n      <th>beacon_state</th>\n      <th>current_slot_attestations</th>\n      <th>simulation</th>\n      <th>subset</th>\n      <th>run</th>\n      <th>substep</th>\n      <th>timestep</th>\n    </tr>\n  </thead>\n  <tbody>\n    <tr>\n      <th>0</th>\n      <td>BeaconState\\n  genesis_time: 1578182400\\n  slo...</td>\n      <td>[]</td>\n      <td>0</td>\n      <td>0</td>\n      <td>1</td>\n      <td>0</td>\n      <td>0</td>\n    </tr>\n    <tr>\n      <th>1</th>\n      <td>BeaconState\\n  genesis_time: 1578182400\\n  slo...</td>\n      <td>[]</td>\n      <td>0</td>\n      <td>0</td>\n      <td>1</td>\n      <td>1</td>\n      <td>1</td>\n    </tr>\n    <tr>\n      <th>2</th>\n      <td>BeaconState\\n  genesis_time: 1578182400\\n  slo...</td>\n      <td>[Attestation\\n  aggregation_bits: Bitlist[bool...</td>\n      <td>0</td>\n      <td>0</td>\n      <td>1</td>\n      <td>2</td>\n      <td>1</td>\n    </tr>\n    <tr>\n      <th>3</th>\n      <td>BeaconState\\n  genesis_time: 1578182400\\n  slo...</td>\n      <td>[Attestation\\n  aggregation_bits: Bitlist[bool...</td>\n      <td>0</td>\n      <td>0</td>\n      <td>1</td>\n      <td>3</td>\n      <td>1</td>\n    </tr>\n    <tr>\n      <th>4</th>\n      <td>BeaconState\\n  genesis_time: 1578182400\\n  slo...</td>\n      <td>[Attestation\\n  aggregation_bits: Bitlist[bool...</td>\n      <td>0</td>\n      <td>0</td>\n      <td>1</td>\n      <td>1</td>\n      <td>2</td>\n    </tr>\n    <tr>\n      <th>...</th>\n      <td>...</td>\n      <td>...</td>\n      <td>...</td>\n      <td>...</td>\n      <td>...</td>\n      <td>...</td>\n      <td>...</td>\n    </tr>\n    <tr>\n      <th>56</th>\n      <td>BeaconState\\n  genesis_time: 1578182400\\n  slo...</td>\n      <td>[Attestation\\n  aggregation_bits: Bitlist[bool...</td>\n      <td>0</td>\n      <td>0</td>\n      <td>1</td>\n      <td>2</td>\n      <td>19</td>\n    </tr>\n    <tr>\n      <th>57</th>\n      <td>BeaconState\\n  genesis_time: 1578182400\\n  slo...</td>\n      <td>[Attestation\\n  aggregation_bits: Bitlist[bool...</td>\n      <td>0</td>\n      <td>0</td>\n      <td>1</td>\n      <td>3</td>\n      <td>19</td>\n    </tr>\n    <tr>\n      <th>58</th>\n      <td>BeaconState\\n  genesis_time: 1578182400\\n  slo...</td>\n      <td>[Attestation\\n  aggregation_bits: Bitlist[bool...</td>\n      <td>0</td>\n      <td>0</td>\n      <td>1</td>\n      <td>1</td>\n      <td>20</td>\n    </tr>\n    <tr>\n      <th>59</th>\n      <td>BeaconState\\n  genesis_time: 1578182400\\n  slo...</td>\n      <td>[Attestation\\n  aggregation_bits: Bitlist[bool...</td>\n      <td>0</td>\n      <td>0</td>\n      <td>1</td>\n      <td>2</td>\n      <td>20</td>\n    </tr>\n    <tr>\n      <th>60</th>\n      <td>BeaconState\\n  genesis_time: 1578182400\\n  slo...</td>\n      <td>[Attestation\\n  aggregation_bits: Bitlist[bool...</td>\n      <td>0</td>\n      <td>0</td>\n      <td>1</td>\n      <td>3</td>\n      <td>20</td>\n    </tr>\n  </tbody>\n</table>\n<p>61 rows × 7 columns</p>\n</div>"
     },
     "metadata": {},
     "execution_count": 18
    }
   ],
   "source": [
    "df"
   ]
  },
  {
   "cell_type": "code",
   "execution_count": 19,
   "metadata": {},
   "outputs": [
    {
     "output_type": "execute_result",
     "data": {
      "text/plain": [
       "    substep  timestep  num_attestations  epoch\n",
       "1         1         1               0.0    5.0\n",
       "4         1         2               2.0    5.0\n",
       "7         1         3               3.0    5.0\n",
       "10        1         4               2.0    5.0\n",
       "13        1         5               3.0    5.0\n",
       "16        1         6               2.0    5.0\n",
       "19        1         7               3.0    5.0\n",
       "22        1         8               2.0    5.0\n",
       "25        1         9               3.0    5.0\n",
       "28        1        10               2.0    5.0\n",
       "31        1        11               3.0    5.0\n",
       "34        1        12               2.0    5.0\n",
       "37        1        13               3.0    5.0\n",
       "40        1        14               2.0    5.0\n",
       "43        1        15               3.0    5.0\n",
       "46        1        16               2.0    5.0\n",
       "49        1        17               3.0    5.0\n",
       "52        1        18               2.0    5.0\n",
       "55        1        19               3.0    5.0\n",
       "58        1        20               2.0    5.0"
      ],
      "text/html": "<div>\n<style scoped>\n    .dataframe tbody tr th:only-of-type {\n        vertical-align: middle;\n    }\n\n    .dataframe tbody tr th {\n        vertical-align: top;\n    }\n\n    .dataframe thead th {\n        text-align: right;\n    }\n</style>\n<table border=\"1\" class=\"dataframe\">\n  <thead>\n    <tr style=\"text-align: right;\">\n      <th></th>\n      <th>substep</th>\n      <th>timestep</th>\n      <th>num_attestations</th>\n      <th>epoch</th>\n    </tr>\n  </thead>\n  <tbody>\n    <tr>\n      <th>1</th>\n      <td>1</td>\n      <td>1</td>\n      <td>0.0</td>\n      <td>5.0</td>\n    </tr>\n    <tr>\n      <th>4</th>\n      <td>1</td>\n      <td>2</td>\n      <td>2.0</td>\n      <td>5.0</td>\n    </tr>\n    <tr>\n      <th>7</th>\n      <td>1</td>\n      <td>3</td>\n      <td>3.0</td>\n      <td>5.0</td>\n    </tr>\n    <tr>\n      <th>10</th>\n      <td>1</td>\n      <td>4</td>\n      <td>2.0</td>\n      <td>5.0</td>\n    </tr>\n    <tr>\n      <th>13</th>\n      <td>1</td>\n      <td>5</td>\n      <td>3.0</td>\n      <td>5.0</td>\n    </tr>\n    <tr>\n      <th>16</th>\n      <td>1</td>\n      <td>6</td>\n      <td>2.0</td>\n      <td>5.0</td>\n    </tr>\n    <tr>\n      <th>19</th>\n      <td>1</td>\n      <td>7</td>\n      <td>3.0</td>\n      <td>5.0</td>\n    </tr>\n    <tr>\n      <th>22</th>\n      <td>1</td>\n      <td>8</td>\n      <td>2.0</td>\n      <td>5.0</td>\n    </tr>\n    <tr>\n      <th>25</th>\n      <td>1</td>\n      <td>9</td>\n      <td>3.0</td>\n      <td>5.0</td>\n    </tr>\n    <tr>\n      <th>28</th>\n      <td>1</td>\n      <td>10</td>\n      <td>2.0</td>\n      <td>5.0</td>\n    </tr>\n    <tr>\n      <th>31</th>\n      <td>1</td>\n      <td>11</td>\n      <td>3.0</td>\n      <td>5.0</td>\n    </tr>\n    <tr>\n      <th>34</th>\n      <td>1</td>\n      <td>12</td>\n      <td>2.0</td>\n      <td>5.0</td>\n    </tr>\n    <tr>\n      <th>37</th>\n      <td>1</td>\n      <td>13</td>\n      <td>3.0</td>\n      <td>5.0</td>\n    </tr>\n    <tr>\n      <th>40</th>\n      <td>1</td>\n      <td>14</td>\n      <td>2.0</td>\n      <td>5.0</td>\n    </tr>\n    <tr>\n      <th>43</th>\n      <td>1</td>\n      <td>15</td>\n      <td>3.0</td>\n      <td>5.0</td>\n    </tr>\n    <tr>\n      <th>46</th>\n      <td>1</td>\n      <td>16</td>\n      <td>2.0</td>\n      <td>5.0</td>\n    </tr>\n    <tr>\n      <th>49</th>\n      <td>1</td>\n      <td>17</td>\n      <td>3.0</td>\n      <td>5.0</td>\n    </tr>\n    <tr>\n      <th>52</th>\n      <td>1</td>\n      <td>18</td>\n      <td>2.0</td>\n      <td>5.0</td>\n    </tr>\n    <tr>\n      <th>55</th>\n      <td>1</td>\n      <td>19</td>\n      <td>3.0</td>\n      <td>5.0</td>\n    </tr>\n    <tr>\n      <th>58</th>\n      <td>1</td>\n      <td>20</td>\n      <td>2.0</td>\n      <td>5.0</td>\n    </tr>\n  </tbody>\n</table>\n</div>"
     },
     "metadata": {},
     "execution_count": 19
    }
   ],
   "source": [
    "df[\"num_attestations\"] = df[df.substep==1].current_slot_attestations.apply(len)\n",
    "df[\"epoch\"] = df[df.substep==1].beacon_state.apply(get_current_epoch)\n",
    "df[df.substep==1].iloc[:,5:] #slices df: only shows column with index >=5"
   ]
  },
  {
   "cell_type": "code",
   "execution_count": 20,
   "metadata": {},
   "outputs": [
    {
     "output_type": "execute_result",
     "data": {
      "text/plain": [
       "List[Gwei, 1099511627776](32014707826, 32014707826, 32014820963, 32014255278, 32014934100, 32014255278, 32014029004, 32014820963, 32014255278, 32014029004)"
      ]
     },
     "metadata": {},
     "execution_count": 20
    }
   ],
   "source": [
    "df.iloc[60]['beacon_state'].balances"
   ]
  },
  {
   "cell_type": "code",
   "execution_count": 21,
   "metadata": {},
   "outputs": [
    {
     "output_type": "execute_result",
     "data": {
      "text/plain": [
       "{'epoch': 3, 'root': b'\\xfc\\xf3\\x1d\\xecI=\\xe9\\x07u\\x05\\xe6T1\\rw\\x00C\\x96\\x1cxk\\xa1h\\x0fp\\xa4\\xbf\\xe1a\\x8ey$'}"
      ]
     },
     "metadata": {},
     "execution_count": 21
    }
   ],
   "source": [
    "df.iloc[60]['beacon_state'].finalized_checkpoint"
   ]
  },
  {
   "cell_type": "code",
   "execution_count": 22,
   "metadata": {},
   "outputs": [],
   "source": [
    "df['total_balance'] = df.beacon_state.apply(\n",
    "    lambda state: sum(state.balances) - eth_to_gwei(32 * number_validators)\n",
    ")"
   ]
  },
  {
   "cell_type": "code",
   "execution_count": 23,
   "metadata": {},
   "outputs": [
    {
     "output_type": "execute_result",
     "data": {
      "text/plain": [
       "0     144815520\n",
       "1     144815520\n",
       "2     144815520\n",
       "3     144815520\n",
       "4     144815520\n",
       "        ...    \n",
       "56    144815520\n",
       "57    144815520\n",
       "58    144815520\n",
       "59    144815520\n",
       "60    144815520\n",
       "Name: total_balance, Length: 61, dtype: int64"
      ]
     },
     "metadata": {},
     "execution_count": 23
    }
   ],
   "source": [
    "df['total_balance']"
   ]
  },
  {
   "cell_type": "code",
   "execution_count": 24,
   "metadata": {},
   "outputs": [],
   "source": [
    "%matplotlib inline"
   ]
  },
  {
   "cell_type": "code",
   "execution_count": 25,
   "metadata": {},
   "outputs": [
    {
     "output_type": "execute_result",
     "data": {
      "text/plain": [
       "<AxesSubplot:xlabel='timestep'>"
      ]
     },
     "metadata": {},
     "execution_count": 25
    },
    {
     "output_type": "display_data",
     "data": {
      "text/plain": "<Figure size 640x480 with 1 Axes>",
      "image/svg+xml": "<?xml version=\"1.0\" encoding=\"utf-8\" standalone=\"no\"?>\n<!DOCTYPE svg PUBLIC \"-//W3C//DTD SVG 1.1//EN\"\n  \"http://www.w3.org/Graphics/SVG/1.1/DTD/svg11.dtd\">\n<svg height=\"321.466687pt\" version=\"1.1\" viewBox=\"0 0 400.785625 321.466687\" width=\"400.785625pt\" xmlns=\"http://www.w3.org/2000/svg\" xmlns:xlink=\"http://www.w3.org/1999/xlink\">\n <metadata>\n  <rdf:RDF xmlns:cc=\"http://creativecommons.org/ns#\" xmlns:dc=\"http://purl.org/dc/elements/1.1/\" xmlns:rdf=\"http://www.w3.org/1999/02/22-rdf-syntax-ns#\">\n   <cc:Work>\n    <dc:type rdf:resource=\"http://purl.org/dc/dcmitype/StillImage\"/>\n    <dc:date>2021-06-15T12:40:17.062814</dc:date>\n    <dc:format>image/svg+xml</dc:format>\n    <dc:creator>\n     <cc:Agent>\n      <dc:title>Matplotlib v3.4.2, https://matplotlib.org/</dc:title>\n     </cc:Agent>\n    </dc:creator>\n   </cc:Work>\n  </rdf:RDF>\n </metadata>\n <defs>\n  <style type=\"text/css\">*{stroke-linecap:butt;stroke-linejoin:round;}</style>\n </defs>\n <g id=\"figure_1\">\n  <g id=\"patch_1\">\n   <path d=\"M 0 321.466687 \nL 400.785625 321.466687 \nL 400.785625 0 \nL 0 0 \nz\n\" style=\"fill:#ffffff;\"/>\n  </g>\n  <g id=\"axes_1\">\n   <g id=\"patch_2\">\n    <path d=\"M 36.465625 283.910437 \nL 393.585625 283.910437 \nL 393.585625 17.798437 \nL 36.465625 17.798437 \nz\n\" style=\"fill:#ffffff;\"/>\n   </g>\n   <g id=\"matplotlib.axis_1\">\n    <g id=\"xtick_1\">\n     <g id=\"line2d_1\">\n      <defs>\n       <path d=\"M 0 0 \nL 0 3.5 \n\" id=\"mde67d44abd\" style=\"stroke:#000000;stroke-width:0.8;\"/>\n      </defs>\n      <g>\n       <use style=\"stroke:#000000;stroke-width:0.8;\" x=\"78.328974\" xlink:href=\"#mde67d44abd\" y=\"283.910437\"/>\n      </g>\n     </g>\n     <g id=\"text_1\">\n      <!-- 2.5 -->\n      <g transform=\"translate(70.377412 298.508875)scale(0.1 -0.1)\">\n       <defs>\n        <path d=\"M 1228 531 \nL 3431 531 \nL 3431 0 \nL 469 0 \nL 469 531 \nQ 828 903 1448 1529 \nQ 2069 2156 2228 2338 \nQ 2531 2678 2651 2914 \nQ 2772 3150 2772 3378 \nQ 2772 3750 2511 3984 \nQ 2250 4219 1831 4219 \nQ 1534 4219 1204 4116 \nQ 875 4013 500 3803 \nL 500 4441 \nQ 881 4594 1212 4672 \nQ 1544 4750 1819 4750 \nQ 2544 4750 2975 4387 \nQ 3406 4025 3406 3419 \nQ 3406 3131 3298 2873 \nQ 3191 2616 2906 2266 \nQ 2828 2175 2409 1742 \nQ 1991 1309 1228 531 \nz\n\" id=\"DejaVuSans-32\" transform=\"scale(0.015625)\"/>\n        <path d=\"M 684 794 \nL 1344 794 \nL 1344 0 \nL 684 0 \nL 684 794 \nz\n\" id=\"DejaVuSans-2e\" transform=\"scale(0.015625)\"/>\n        <path d=\"M 691 4666 \nL 3169 4666 \nL 3169 4134 \nL 1269 4134 \nL 1269 2991 \nQ 1406 3038 1543 3061 \nQ 1681 3084 1819 3084 \nQ 2600 3084 3056 2656 \nQ 3513 2228 3513 1497 \nQ 3513 744 3044 326 \nQ 2575 -91 1722 -91 \nQ 1428 -91 1123 -41 \nQ 819 9 494 109 \nL 494 744 \nQ 775 591 1075 516 \nQ 1375 441 1709 441 \nQ 2250 441 2565 725 \nQ 2881 1009 2881 1497 \nQ 2881 1984 2565 2268 \nQ 2250 2553 1709 2553 \nQ 1456 2553 1204 2497 \nQ 953 2441 691 2322 \nL 691 4666 \nz\n\" id=\"DejaVuSans-35\" transform=\"scale(0.015625)\"/>\n       </defs>\n       <use xlink:href=\"#DejaVuSans-32\"/>\n       <use x=\"63.623047\" xlink:href=\"#DejaVuSans-2e\"/>\n       <use x=\"95.410156\" xlink:href=\"#DejaVuSans-35\"/>\n      </g>\n     </g>\n    </g>\n    <g id=\"xtick_2\">\n     <g id=\"line2d_2\">\n      <g>\n       <use style=\"stroke:#000000;stroke-width:0.8;\" x=\"121.046678\" xlink:href=\"#mde67d44abd\" y=\"283.910437\"/>\n      </g>\n     </g>\n     <g id=\"text_2\">\n      <!-- 5.0 -->\n      <g transform=\"translate(113.095115 298.508875)scale(0.1 -0.1)\">\n       <defs>\n        <path d=\"M 2034 4250 \nQ 1547 4250 1301 3770 \nQ 1056 3291 1056 2328 \nQ 1056 1369 1301 889 \nQ 1547 409 2034 409 \nQ 2525 409 2770 889 \nQ 3016 1369 3016 2328 \nQ 3016 3291 2770 3770 \nQ 2525 4250 2034 4250 \nz\nM 2034 4750 \nQ 2819 4750 3233 4129 \nQ 3647 3509 3647 2328 \nQ 3647 1150 3233 529 \nQ 2819 -91 2034 -91 \nQ 1250 -91 836 529 \nQ 422 1150 422 2328 \nQ 422 3509 836 4129 \nQ 1250 4750 2034 4750 \nz\n\" id=\"DejaVuSans-30\" transform=\"scale(0.015625)\"/>\n       </defs>\n       <use xlink:href=\"#DejaVuSans-35\"/>\n       <use x=\"63.623047\" xlink:href=\"#DejaVuSans-2e\"/>\n       <use x=\"95.410156\" xlink:href=\"#DejaVuSans-30\"/>\n      </g>\n     </g>\n    </g>\n    <g id=\"xtick_3\">\n     <g id=\"line2d_3\">\n      <g>\n       <use style=\"stroke:#000000;stroke-width:0.8;\" x=\"163.764381\" xlink:href=\"#mde67d44abd\" y=\"283.910437\"/>\n      </g>\n     </g>\n     <g id=\"text_3\">\n      <!-- 7.5 -->\n      <g transform=\"translate(155.812818 298.508875)scale(0.1 -0.1)\">\n       <defs>\n        <path d=\"M 525 4666 \nL 3525 4666 \nL 3525 4397 \nL 1831 0 \nL 1172 0 \nL 2766 4134 \nL 525 4134 \nL 525 4666 \nz\n\" id=\"DejaVuSans-37\" transform=\"scale(0.015625)\"/>\n       </defs>\n       <use xlink:href=\"#DejaVuSans-37\"/>\n       <use x=\"63.623047\" xlink:href=\"#DejaVuSans-2e\"/>\n       <use x=\"95.410156\" xlink:href=\"#DejaVuSans-35\"/>\n      </g>\n     </g>\n    </g>\n    <g id=\"xtick_4\">\n     <g id=\"line2d_4\">\n      <g>\n       <use style=\"stroke:#000000;stroke-width:0.8;\" x=\"206.482084\" xlink:href=\"#mde67d44abd\" y=\"283.910437\"/>\n      </g>\n     </g>\n     <g id=\"text_4\">\n      <!-- 10.0 -->\n      <g transform=\"translate(195.349272 298.508875)scale(0.1 -0.1)\">\n       <defs>\n        <path d=\"M 794 531 \nL 1825 531 \nL 1825 4091 \nL 703 3866 \nL 703 4441 \nL 1819 4666 \nL 2450 4666 \nL 2450 531 \nL 3481 531 \nL 3481 0 \nL 794 0 \nL 794 531 \nz\n\" id=\"DejaVuSans-31\" transform=\"scale(0.015625)\"/>\n       </defs>\n       <use xlink:href=\"#DejaVuSans-31\"/>\n       <use x=\"63.623047\" xlink:href=\"#DejaVuSans-30\"/>\n       <use x=\"127.246094\" xlink:href=\"#DejaVuSans-2e\"/>\n       <use x=\"159.033203\" xlink:href=\"#DejaVuSans-30\"/>\n      </g>\n     </g>\n    </g>\n    <g id=\"xtick_5\">\n     <g id=\"line2d_5\">\n      <g>\n       <use style=\"stroke:#000000;stroke-width:0.8;\" x=\"249.199788\" xlink:href=\"#mde67d44abd\" y=\"283.910437\"/>\n      </g>\n     </g>\n     <g id=\"text_5\">\n      <!-- 12.5 -->\n      <g transform=\"translate(238.066975 298.508875)scale(0.1 -0.1)\">\n       <use xlink:href=\"#DejaVuSans-31\"/>\n       <use x=\"63.623047\" xlink:href=\"#DejaVuSans-32\"/>\n       <use x=\"127.246094\" xlink:href=\"#DejaVuSans-2e\"/>\n       <use x=\"159.033203\" xlink:href=\"#DejaVuSans-35\"/>\n      </g>\n     </g>\n    </g>\n    <g id=\"xtick_6\">\n     <g id=\"line2d_6\">\n      <g>\n       <use style=\"stroke:#000000;stroke-width:0.8;\" x=\"291.917491\" xlink:href=\"#mde67d44abd\" y=\"283.910437\"/>\n      </g>\n     </g>\n     <g id=\"text_6\">\n      <!-- 15.0 -->\n      <g transform=\"translate(280.784679 298.508875)scale(0.1 -0.1)\">\n       <use xlink:href=\"#DejaVuSans-31\"/>\n       <use x=\"63.623047\" xlink:href=\"#DejaVuSans-35\"/>\n       <use x=\"127.246094\" xlink:href=\"#DejaVuSans-2e\"/>\n       <use x=\"159.033203\" xlink:href=\"#DejaVuSans-30\"/>\n      </g>\n     </g>\n    </g>\n    <g id=\"xtick_7\">\n     <g id=\"line2d_7\">\n      <g>\n       <use style=\"stroke:#000000;stroke-width:0.8;\" x=\"334.635194\" xlink:href=\"#mde67d44abd\" y=\"283.910437\"/>\n      </g>\n     </g>\n     <g id=\"text_7\">\n      <!-- 17.5 -->\n      <g transform=\"translate(323.502382 298.508875)scale(0.1 -0.1)\">\n       <use xlink:href=\"#DejaVuSans-31\"/>\n       <use x=\"63.623047\" xlink:href=\"#DejaVuSans-37\"/>\n       <use x=\"127.246094\" xlink:href=\"#DejaVuSans-2e\"/>\n       <use x=\"159.033203\" xlink:href=\"#DejaVuSans-35\"/>\n      </g>\n     </g>\n    </g>\n    <g id=\"xtick_8\">\n     <g id=\"line2d_8\">\n      <g>\n       <use style=\"stroke:#000000;stroke-width:0.8;\" x=\"377.352898\" xlink:href=\"#mde67d44abd\" y=\"283.910437\"/>\n      </g>\n     </g>\n     <g id=\"text_8\">\n      <!-- 20.0 -->\n      <g transform=\"translate(366.220085 298.508875)scale(0.1 -0.1)\">\n       <use xlink:href=\"#DejaVuSans-32\"/>\n       <use x=\"63.623047\" xlink:href=\"#DejaVuSans-30\"/>\n       <use x=\"127.246094\" xlink:href=\"#DejaVuSans-2e\"/>\n       <use x=\"159.033203\" xlink:href=\"#DejaVuSans-30\"/>\n      </g>\n     </g>\n    </g>\n    <g id=\"text_9\">\n     <!-- timestep -->\n     <g transform=\"translate(192.913906 312.187)scale(0.1 -0.1)\">\n      <defs>\n       <path d=\"M 1172 4494 \nL 1172 3500 \nL 2356 3500 \nL 2356 3053 \nL 1172 3053 \nL 1172 1153 \nQ 1172 725 1289 603 \nQ 1406 481 1766 481 \nL 2356 481 \nL 2356 0 \nL 1766 0 \nQ 1100 0 847 248 \nQ 594 497 594 1153 \nL 594 3053 \nL 172 3053 \nL 172 3500 \nL 594 3500 \nL 594 4494 \nL 1172 4494 \nz\n\" id=\"DejaVuSans-74\" transform=\"scale(0.015625)\"/>\n       <path d=\"M 603 3500 \nL 1178 3500 \nL 1178 0 \nL 603 0 \nL 603 3500 \nz\nM 603 4863 \nL 1178 4863 \nL 1178 4134 \nL 603 4134 \nL 603 4863 \nz\n\" id=\"DejaVuSans-69\" transform=\"scale(0.015625)\"/>\n       <path d=\"M 3328 2828 \nQ 3544 3216 3844 3400 \nQ 4144 3584 4550 3584 \nQ 5097 3584 5394 3201 \nQ 5691 2819 5691 2113 \nL 5691 0 \nL 5113 0 \nL 5113 2094 \nQ 5113 2597 4934 2840 \nQ 4756 3084 4391 3084 \nQ 3944 3084 3684 2787 \nQ 3425 2491 3425 1978 \nL 3425 0 \nL 2847 0 \nL 2847 2094 \nQ 2847 2600 2669 2842 \nQ 2491 3084 2119 3084 \nQ 1678 3084 1418 2786 \nQ 1159 2488 1159 1978 \nL 1159 0 \nL 581 0 \nL 581 3500 \nL 1159 3500 \nL 1159 2956 \nQ 1356 3278 1631 3431 \nQ 1906 3584 2284 3584 \nQ 2666 3584 2933 3390 \nQ 3200 3197 3328 2828 \nz\n\" id=\"DejaVuSans-6d\" transform=\"scale(0.015625)\"/>\n       <path d=\"M 3597 1894 \nL 3597 1613 \nL 953 1613 \nQ 991 1019 1311 708 \nQ 1631 397 2203 397 \nQ 2534 397 2845 478 \nQ 3156 559 3463 722 \nL 3463 178 \nQ 3153 47 2828 -22 \nQ 2503 -91 2169 -91 \nQ 1331 -91 842 396 \nQ 353 884 353 1716 \nQ 353 2575 817 3079 \nQ 1281 3584 2069 3584 \nQ 2775 3584 3186 3129 \nQ 3597 2675 3597 1894 \nz\nM 3022 2063 \nQ 3016 2534 2758 2815 \nQ 2500 3097 2075 3097 \nQ 1594 3097 1305 2825 \nQ 1016 2553 972 2059 \nL 3022 2063 \nz\n\" id=\"DejaVuSans-65\" transform=\"scale(0.015625)\"/>\n       <path d=\"M 2834 3397 \nL 2834 2853 \nQ 2591 2978 2328 3040 \nQ 2066 3103 1784 3103 \nQ 1356 3103 1142 2972 \nQ 928 2841 928 2578 \nQ 928 2378 1081 2264 \nQ 1234 2150 1697 2047 \nL 1894 2003 \nQ 2506 1872 2764 1633 \nQ 3022 1394 3022 966 \nQ 3022 478 2636 193 \nQ 2250 -91 1575 -91 \nQ 1294 -91 989 -36 \nQ 684 19 347 128 \nL 347 722 \nQ 666 556 975 473 \nQ 1284 391 1588 391 \nQ 1994 391 2212 530 \nQ 2431 669 2431 922 \nQ 2431 1156 2273 1281 \nQ 2116 1406 1581 1522 \nL 1381 1569 \nQ 847 1681 609 1914 \nQ 372 2147 372 2553 \nQ 372 3047 722 3315 \nQ 1072 3584 1716 3584 \nQ 2034 3584 2315 3537 \nQ 2597 3491 2834 3397 \nz\n\" id=\"DejaVuSans-73\" transform=\"scale(0.015625)\"/>\n       <path d=\"M 1159 525 \nL 1159 -1331 \nL 581 -1331 \nL 581 3500 \nL 1159 3500 \nL 1159 2969 \nQ 1341 3281 1617 3432 \nQ 1894 3584 2278 3584 \nQ 2916 3584 3314 3078 \nQ 3713 2572 3713 1747 \nQ 3713 922 3314 415 \nQ 2916 -91 2278 -91 \nQ 1894 -91 1617 61 \nQ 1341 213 1159 525 \nz\nM 3116 1747 \nQ 3116 2381 2855 2742 \nQ 2594 3103 2138 3103 \nQ 1681 3103 1420 2742 \nQ 1159 2381 1159 1747 \nQ 1159 1113 1420 752 \nQ 1681 391 2138 391 \nQ 2594 391 2855 752 \nQ 3116 1113 3116 1747 \nz\n\" id=\"DejaVuSans-70\" transform=\"scale(0.015625)\"/>\n      </defs>\n      <use xlink:href=\"#DejaVuSans-74\"/>\n      <use x=\"39.208984\" xlink:href=\"#DejaVuSans-69\"/>\n      <use x=\"66.992188\" xlink:href=\"#DejaVuSans-6d\"/>\n      <use x=\"164.404297\" xlink:href=\"#DejaVuSans-65\"/>\n      <use x=\"225.927734\" xlink:href=\"#DejaVuSans-73\"/>\n      <use x=\"278.027344\" xlink:href=\"#DejaVuSans-74\"/>\n      <use x=\"317.236328\" xlink:href=\"#DejaVuSans-65\"/>\n      <use x=\"378.759766\" xlink:href=\"#DejaVuSans-70\"/>\n     </g>\n    </g>\n   </g>\n   <g id=\"matplotlib.axis_2\">\n    <g id=\"ytick_1\">\n     <g id=\"line2d_9\">\n      <defs>\n       <path d=\"M 0 0 \nL -3.5 0 \n\" id=\"m9710a98e29\" style=\"stroke:#000000;stroke-width:0.8;\"/>\n      </defs>\n      <g>\n       <use style=\"stroke:#000000;stroke-width:0.8;\" x=\"36.465625\" xlink:href=\"#m9710a98e29\" y=\"264.710369\"/>\n      </g>\n     </g>\n     <g id=\"text_10\">\n      <!-- 1.38 -->\n      <g transform=\"translate(7.2 268.509588)scale(0.1 -0.1)\">\n       <defs>\n        <path d=\"M 2597 2516 \nQ 3050 2419 3304 2112 \nQ 3559 1806 3559 1356 \nQ 3559 666 3084 287 \nQ 2609 -91 1734 -91 \nQ 1441 -91 1130 -33 \nQ 819 25 488 141 \nL 488 750 \nQ 750 597 1062 519 \nQ 1375 441 1716 441 \nQ 2309 441 2620 675 \nQ 2931 909 2931 1356 \nQ 2931 1769 2642 2001 \nQ 2353 2234 1838 2234 \nL 1294 2234 \nL 1294 2753 \nL 1863 2753 \nQ 2328 2753 2575 2939 \nQ 2822 3125 2822 3475 \nQ 2822 3834 2567 4026 \nQ 2313 4219 1838 4219 \nQ 1578 4219 1281 4162 \nQ 984 4106 628 3988 \nL 628 4550 \nQ 988 4650 1302 4700 \nQ 1616 4750 1894 4750 \nQ 2613 4750 3031 4423 \nQ 3450 4097 3450 3541 \nQ 3450 3153 3228 2886 \nQ 3006 2619 2597 2516 \nz\n\" id=\"DejaVuSans-33\" transform=\"scale(0.015625)\"/>\n        <path d=\"M 2034 2216 \nQ 1584 2216 1326 1975 \nQ 1069 1734 1069 1313 \nQ 1069 891 1326 650 \nQ 1584 409 2034 409 \nQ 2484 409 2743 651 \nQ 3003 894 3003 1313 \nQ 3003 1734 2745 1975 \nQ 2488 2216 2034 2216 \nz\nM 1403 2484 \nQ 997 2584 770 2862 \nQ 544 3141 544 3541 \nQ 544 4100 942 4425 \nQ 1341 4750 2034 4750 \nQ 2731 4750 3128 4425 \nQ 3525 4100 3525 3541 \nQ 3525 3141 3298 2862 \nQ 3072 2584 2669 2484 \nQ 3125 2378 3379 2068 \nQ 3634 1759 3634 1313 \nQ 3634 634 3220 271 \nQ 2806 -91 2034 -91 \nQ 1263 -91 848 271 \nQ 434 634 434 1313 \nQ 434 1759 690 2068 \nQ 947 2378 1403 2484 \nz\nM 1172 3481 \nQ 1172 3119 1398 2916 \nQ 1625 2713 2034 2713 \nQ 2441 2713 2670 2916 \nQ 2900 3119 2900 3481 \nQ 2900 3844 2670 4047 \nQ 2441 4250 2034 4250 \nQ 1625 4250 1398 4047 \nQ 1172 3844 1172 3481 \nz\n\" id=\"DejaVuSans-38\" transform=\"scale(0.015625)\"/>\n       </defs>\n       <use xlink:href=\"#DejaVuSans-31\"/>\n       <use x=\"63.623047\" xlink:href=\"#DejaVuSans-2e\"/>\n       <use x=\"95.410156\" xlink:href=\"#DejaVuSans-33\"/>\n       <use x=\"159.033203\" xlink:href=\"#DejaVuSans-38\"/>\n      </g>\n     </g>\n    </g>\n    <g id=\"ytick_2\">\n     <g id=\"line2d_10\">\n      <g>\n       <use style=\"stroke:#000000;stroke-width:0.8;\" x=\"36.465625\" xlink:href=\"#m9710a98e29\" y=\"231.299586\"/>\n      </g>\n     </g>\n     <g id=\"text_11\">\n      <!-- 1.40 -->\n      <g transform=\"translate(7.2 235.098805)scale(0.1 -0.1)\">\n       <defs>\n        <path d=\"M 2419 4116 \nL 825 1625 \nL 2419 1625 \nL 2419 4116 \nz\nM 2253 4666 \nL 3047 4666 \nL 3047 1625 \nL 3713 1625 \nL 3713 1100 \nL 3047 1100 \nL 3047 0 \nL 2419 0 \nL 2419 1100 \nL 313 1100 \nL 313 1709 \nL 2253 4666 \nz\n\" id=\"DejaVuSans-34\" transform=\"scale(0.015625)\"/>\n       </defs>\n       <use xlink:href=\"#DejaVuSans-31\"/>\n       <use x=\"63.623047\" xlink:href=\"#DejaVuSans-2e\"/>\n       <use x=\"95.410156\" xlink:href=\"#DejaVuSans-34\"/>\n       <use x=\"159.033203\" xlink:href=\"#DejaVuSans-30\"/>\n      </g>\n     </g>\n    </g>\n    <g id=\"ytick_3\">\n     <g id=\"line2d_11\">\n      <g>\n       <use style=\"stroke:#000000;stroke-width:0.8;\" x=\"36.465625\" xlink:href=\"#m9710a98e29\" y=\"197.888802\"/>\n      </g>\n     </g>\n     <g id=\"text_12\">\n      <!-- 1.42 -->\n      <g transform=\"translate(7.2 201.688021)scale(0.1 -0.1)\">\n       <use xlink:href=\"#DejaVuSans-31\"/>\n       <use x=\"63.623047\" xlink:href=\"#DejaVuSans-2e\"/>\n       <use x=\"95.410156\" xlink:href=\"#DejaVuSans-34\"/>\n       <use x=\"159.033203\" xlink:href=\"#DejaVuSans-32\"/>\n      </g>\n     </g>\n    </g>\n    <g id=\"ytick_4\">\n     <g id=\"line2d_12\">\n      <g>\n       <use style=\"stroke:#000000;stroke-width:0.8;\" x=\"36.465625\" xlink:href=\"#m9710a98e29\" y=\"164.478019\"/>\n      </g>\n     </g>\n     <g id=\"text_13\">\n      <!-- 1.44 -->\n      <g transform=\"translate(7.2 168.277237)scale(0.1 -0.1)\">\n       <use xlink:href=\"#DejaVuSans-31\"/>\n       <use x=\"63.623047\" xlink:href=\"#DejaVuSans-2e\"/>\n       <use x=\"95.410156\" xlink:href=\"#DejaVuSans-34\"/>\n       <use x=\"159.033203\" xlink:href=\"#DejaVuSans-34\"/>\n      </g>\n     </g>\n    </g>\n    <g id=\"ytick_5\">\n     <g id=\"line2d_13\">\n      <g>\n       <use style=\"stroke:#000000;stroke-width:0.8;\" x=\"36.465625\" xlink:href=\"#m9710a98e29\" y=\"131.067235\"/>\n      </g>\n     </g>\n     <g id=\"text_14\">\n      <!-- 1.46 -->\n      <g transform=\"translate(7.2 134.866454)scale(0.1 -0.1)\">\n       <defs>\n        <path d=\"M 2113 2584 \nQ 1688 2584 1439 2293 \nQ 1191 2003 1191 1497 \nQ 1191 994 1439 701 \nQ 1688 409 2113 409 \nQ 2538 409 2786 701 \nQ 3034 994 3034 1497 \nQ 3034 2003 2786 2293 \nQ 2538 2584 2113 2584 \nz\nM 3366 4563 \nL 3366 3988 \nQ 3128 4100 2886 4159 \nQ 2644 4219 2406 4219 \nQ 1781 4219 1451 3797 \nQ 1122 3375 1075 2522 \nQ 1259 2794 1537 2939 \nQ 1816 3084 2150 3084 \nQ 2853 3084 3261 2657 \nQ 3669 2231 3669 1497 \nQ 3669 778 3244 343 \nQ 2819 -91 2113 -91 \nQ 1303 -91 875 529 \nQ 447 1150 447 2328 \nQ 447 3434 972 4092 \nQ 1497 4750 2381 4750 \nQ 2619 4750 2861 4703 \nQ 3103 4656 3366 4563 \nz\n\" id=\"DejaVuSans-36\" transform=\"scale(0.015625)\"/>\n       </defs>\n       <use xlink:href=\"#DejaVuSans-31\"/>\n       <use x=\"63.623047\" xlink:href=\"#DejaVuSans-2e\"/>\n       <use x=\"95.410156\" xlink:href=\"#DejaVuSans-34\"/>\n       <use x=\"159.033203\" xlink:href=\"#DejaVuSans-36\"/>\n      </g>\n     </g>\n    </g>\n    <g id=\"ytick_6\">\n     <g id=\"line2d_14\">\n      <g>\n       <use style=\"stroke:#000000;stroke-width:0.8;\" x=\"36.465625\" xlink:href=\"#m9710a98e29\" y=\"97.656451\"/>\n      </g>\n     </g>\n     <g id=\"text_15\">\n      <!-- 1.48 -->\n      <g transform=\"translate(7.2 101.45567)scale(0.1 -0.1)\">\n       <use xlink:href=\"#DejaVuSans-31\"/>\n       <use x=\"63.623047\" xlink:href=\"#DejaVuSans-2e\"/>\n       <use x=\"95.410156\" xlink:href=\"#DejaVuSans-34\"/>\n       <use x=\"159.033203\" xlink:href=\"#DejaVuSans-38\"/>\n      </g>\n     </g>\n    </g>\n    <g id=\"ytick_7\">\n     <g id=\"line2d_15\">\n      <g>\n       <use style=\"stroke:#000000;stroke-width:0.8;\" x=\"36.465625\" xlink:href=\"#m9710a98e29\" y=\"64.245668\"/>\n      </g>\n     </g>\n     <g id=\"text_16\">\n      <!-- 1.50 -->\n      <g transform=\"translate(7.2 68.044887)scale(0.1 -0.1)\">\n       <use xlink:href=\"#DejaVuSans-31\"/>\n       <use x=\"63.623047\" xlink:href=\"#DejaVuSans-2e\"/>\n       <use x=\"95.410156\" xlink:href=\"#DejaVuSans-35\"/>\n       <use x=\"159.033203\" xlink:href=\"#DejaVuSans-30\"/>\n      </g>\n     </g>\n    </g>\n    <g id=\"ytick_8\">\n     <g id=\"line2d_16\">\n      <g>\n       <use style=\"stroke:#000000;stroke-width:0.8;\" x=\"36.465625\" xlink:href=\"#m9710a98e29\" y=\"30.834884\"/>\n      </g>\n     </g>\n     <g id=\"text_17\">\n      <!-- 1.52 -->\n      <g transform=\"translate(7.2 34.634103)scale(0.1 -0.1)\">\n       <use xlink:href=\"#DejaVuSans-31\"/>\n       <use x=\"63.623047\" xlink:href=\"#DejaVuSans-2e\"/>\n       <use x=\"95.410156\" xlink:href=\"#DejaVuSans-35\"/>\n       <use x=\"159.033203\" xlink:href=\"#DejaVuSans-32\"/>\n      </g>\n     </g>\n    </g>\n    <g id=\"text_18\">\n     <!-- 1e8 -->\n     <g transform=\"translate(36.465625 14.798437)scale(0.1 -0.1)\">\n      <use xlink:href=\"#DejaVuSans-31\"/>\n      <use x=\"63.623047\" xlink:href=\"#DejaVuSans-65\"/>\n      <use x=\"125.146484\" xlink:href=\"#DejaVuSans-38\"/>\n     </g>\n    </g>\n   </g>\n   <g id=\"line2d_17\">\n    <path clip-path=\"url(#peccf859c57)\" d=\"M 52.698352 150.854437 \nL 69.785434 150.854437 \nL 86.872515 150.854437 \nL 103.959596 150.854437 \nL 121.046678 150.854437 \nL 138.133759 150.854437 \nL 155.22084 150.854437 \nL 172.307922 150.854437 \nL 189.395003 150.854437 \nL 206.482084 150.854437 \nL 223.569166 150.854437 \nL 240.656247 150.854437 \nL 257.743328 150.854437 \nL 274.83041 150.854437 \nL 291.917491 150.854437 \nL 309.004572 150.854437 \nL 326.091654 150.854437 \nL 343.178735 150.854437 \nL 360.265816 150.854437 \nL 377.352898 150.854437 \n\" style=\"fill:none;stroke:#1f77b4;stroke-linecap:square;stroke-width:1.5;\"/>\n   </g>\n   <g id=\"patch_3\">\n    <path d=\"M 36.465625 283.910437 \nL 36.465625 17.798437 \n\" style=\"fill:none;stroke:#000000;stroke-linecap:square;stroke-linejoin:miter;stroke-width:0.8;\"/>\n   </g>\n   <g id=\"patch_4\">\n    <path d=\"M 393.585625 283.910437 \nL 393.585625 17.798437 \n\" style=\"fill:none;stroke:#000000;stroke-linecap:square;stroke-linejoin:miter;stroke-width:0.8;\"/>\n   </g>\n   <g id=\"patch_5\">\n    <path d=\"M 36.465625 283.910437 \nL 393.585625 283.910437 \n\" style=\"fill:none;stroke:#000000;stroke-linecap:square;stroke-linejoin:miter;stroke-width:0.8;\"/>\n   </g>\n   <g id=\"patch_6\">\n    <path d=\"M 36.465625 17.798437 \nL 393.585625 17.798437 \n\" style=\"fill:none;stroke:#000000;stroke-linecap:square;stroke-linejoin:miter;stroke-width:0.8;\"/>\n   </g>\n   <g id=\"legend_1\">\n    <g id=\"patch_7\">\n     <path d=\"M 287.348125 40.754687 \nL 386.585625 40.754687 \nQ 388.585625 40.754687 388.585625 38.754687 \nL 388.585625 24.798437 \nQ 388.585625 22.798437 386.585625 22.798437 \nL 287.348125 22.798437 \nQ 285.348125 22.798437 285.348125 24.798437 \nL 285.348125 38.754687 \nQ 285.348125 40.754687 287.348125 40.754687 \nz\n\" style=\"fill:#ffffff;opacity:0.8;stroke:#cccccc;stroke-linejoin:miter;\"/>\n    </g>\n    <g id=\"line2d_18\">\n     <path d=\"M 289.348125 30.896875 \nL 309.348125 30.896875 \n\" style=\"fill:none;stroke:#1f77b4;stroke-linecap:square;stroke-width:1.5;\"/>\n    </g>\n    <g id=\"line2d_19\"/>\n    <g id=\"text_19\">\n     <!-- total_balance -->\n     <g transform=\"translate(317.348125 34.396875)scale(0.1 -0.1)\">\n      <defs>\n       <path d=\"M 1959 3097 \nQ 1497 3097 1228 2736 \nQ 959 2375 959 1747 \nQ 959 1119 1226 758 \nQ 1494 397 1959 397 \nQ 2419 397 2687 759 \nQ 2956 1122 2956 1747 \nQ 2956 2369 2687 2733 \nQ 2419 3097 1959 3097 \nz\nM 1959 3584 \nQ 2709 3584 3137 3096 \nQ 3566 2609 3566 1747 \nQ 3566 888 3137 398 \nQ 2709 -91 1959 -91 \nQ 1206 -91 779 398 \nQ 353 888 353 1747 \nQ 353 2609 779 3096 \nQ 1206 3584 1959 3584 \nz\n\" id=\"DejaVuSans-6f\" transform=\"scale(0.015625)\"/>\n       <path d=\"M 2194 1759 \nQ 1497 1759 1228 1600 \nQ 959 1441 959 1056 \nQ 959 750 1161 570 \nQ 1363 391 1709 391 \nQ 2188 391 2477 730 \nQ 2766 1069 2766 1631 \nL 2766 1759 \nL 2194 1759 \nz\nM 3341 1997 \nL 3341 0 \nL 2766 0 \nL 2766 531 \nQ 2569 213 2275 61 \nQ 1981 -91 1556 -91 \nQ 1019 -91 701 211 \nQ 384 513 384 1019 \nQ 384 1609 779 1909 \nQ 1175 2209 1959 2209 \nL 2766 2209 \nL 2766 2266 \nQ 2766 2663 2505 2880 \nQ 2244 3097 1772 3097 \nQ 1472 3097 1187 3025 \nQ 903 2953 641 2809 \nL 641 3341 \nQ 956 3463 1253 3523 \nQ 1550 3584 1831 3584 \nQ 2591 3584 2966 3190 \nQ 3341 2797 3341 1997 \nz\n\" id=\"DejaVuSans-61\" transform=\"scale(0.015625)\"/>\n       <path d=\"M 603 4863 \nL 1178 4863 \nL 1178 0 \nL 603 0 \nL 603 4863 \nz\n\" id=\"DejaVuSans-6c\" transform=\"scale(0.015625)\"/>\n       <path d=\"M 3263 -1063 \nL 3263 -1509 \nL -63 -1509 \nL -63 -1063 \nL 3263 -1063 \nz\n\" id=\"DejaVuSans-5f\" transform=\"scale(0.015625)\"/>\n       <path d=\"M 3116 1747 \nQ 3116 2381 2855 2742 \nQ 2594 3103 2138 3103 \nQ 1681 3103 1420 2742 \nQ 1159 2381 1159 1747 \nQ 1159 1113 1420 752 \nQ 1681 391 2138 391 \nQ 2594 391 2855 752 \nQ 3116 1113 3116 1747 \nz\nM 1159 2969 \nQ 1341 3281 1617 3432 \nQ 1894 3584 2278 3584 \nQ 2916 3584 3314 3078 \nQ 3713 2572 3713 1747 \nQ 3713 922 3314 415 \nQ 2916 -91 2278 -91 \nQ 1894 -91 1617 61 \nQ 1341 213 1159 525 \nL 1159 0 \nL 581 0 \nL 581 4863 \nL 1159 4863 \nL 1159 2969 \nz\n\" id=\"DejaVuSans-62\" transform=\"scale(0.015625)\"/>\n       <path d=\"M 3513 2113 \nL 3513 0 \nL 2938 0 \nL 2938 2094 \nQ 2938 2591 2744 2837 \nQ 2550 3084 2163 3084 \nQ 1697 3084 1428 2787 \nQ 1159 2491 1159 1978 \nL 1159 0 \nL 581 0 \nL 581 3500 \nL 1159 3500 \nL 1159 2956 \nQ 1366 3272 1645 3428 \nQ 1925 3584 2291 3584 \nQ 2894 3584 3203 3211 \nQ 3513 2838 3513 2113 \nz\n\" id=\"DejaVuSans-6e\" transform=\"scale(0.015625)\"/>\n       <path d=\"M 3122 3366 \nL 3122 2828 \nQ 2878 2963 2633 3030 \nQ 2388 3097 2138 3097 \nQ 1578 3097 1268 2742 \nQ 959 2388 959 1747 \nQ 959 1106 1268 751 \nQ 1578 397 2138 397 \nQ 2388 397 2633 464 \nQ 2878 531 3122 666 \nL 3122 134 \nQ 2881 22 2623 -34 \nQ 2366 -91 2075 -91 \nQ 1284 -91 818 406 \nQ 353 903 353 1747 \nQ 353 2603 823 3093 \nQ 1294 3584 2113 3584 \nQ 2378 3584 2631 3529 \nQ 2884 3475 3122 3366 \nz\n\" id=\"DejaVuSans-63\" transform=\"scale(0.015625)\"/>\n      </defs>\n      <use xlink:href=\"#DejaVuSans-74\"/>\n      <use x=\"39.208984\" xlink:href=\"#DejaVuSans-6f\"/>\n      <use x=\"100.390625\" xlink:href=\"#DejaVuSans-74\"/>\n      <use x=\"139.599609\" xlink:href=\"#DejaVuSans-61\"/>\n      <use x=\"200.878906\" xlink:href=\"#DejaVuSans-6c\"/>\n      <use x=\"228.662109\" xlink:href=\"#DejaVuSans-5f\"/>\n      <use x=\"278.662109\" xlink:href=\"#DejaVuSans-62\"/>\n      <use x=\"342.138672\" xlink:href=\"#DejaVuSans-61\"/>\n      <use x=\"403.417969\" xlink:href=\"#DejaVuSans-6c\"/>\n      <use x=\"431.201172\" xlink:href=\"#DejaVuSans-61\"/>\n      <use x=\"492.480469\" xlink:href=\"#DejaVuSans-6e\"/>\n      <use x=\"555.859375\" xlink:href=\"#DejaVuSans-63\"/>\n      <use x=\"610.839844\" xlink:href=\"#DejaVuSans-65\"/>\n     </g>\n    </g>\n   </g>\n  </g>\n </g>\n <defs>\n  <clipPath id=\"peccf859c57\">\n   <rect height=\"266.112\" width=\"357.12\" x=\"36.465625\" y=\"17.798438\"/>\n  </clipPath>\n </defs>\n</svg>\n",
      "image/png": "[encoded data removed]"
     },
     "metadata": {}
    }
   ],
   "source": [
    "df[df.substep == 1].plot('timestep', 'total_balance')"
   ]
  }
 ]
}