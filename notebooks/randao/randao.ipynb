{
 "metadata": {
  "language_info": {
   "codemirror_mode": {
    "name": "ipython",
    "version": 3
   },
   "file_extension": ".py",
   "mimetype": "text/x-python",
   "name": "python",
   "nbconvert_exporter": "python",
   "pygments_lexer": "ipython3",
   "version": "3.8.10"
  },
  "orig_nbformat": 4,
  "kernelspec": {
   "name": "python3",
   "display_name": "Python 3.8.10 64-bit ('venv': venv)"
  },
  "interpreter": {
   "hash": "5f5720dd240b5e796de15b652744d3b54f1f4ff0dc16c45bb77990806d2c1353"
  }
 },
 "nbformat": 4,
 "nbformat_minor": 2,
 "cells": [
  {
   "cell_type": "code",
   "execution_count": 1,
   "metadata": {},
   "outputs": [],
   "source": [
    "import importlib\n",
    "import types\n",
    "from eth2spec.config.config_util import prepare_config\n",
    "from eth2spec.utils.ssz.ssz_impl import hash_tree_root"
   ]
  },
  {
   "cell_type": "code",
   "execution_count": 2,
   "metadata": {},
   "outputs": [],
   "source": [
    "import os, sys\n",
    "sys.path.insert(1, os.path.realpath(os.path.pardir) + \"/notebooks/thunderdome\")\n",
    "import beaconrunner as br"
   ]
  },
  {
   "cell_type": "code",
   "execution_count": 3,
   "metadata": {},
   "outputs": [],
   "source": [
    "import pandas as pd"
   ]
  },
  {
   "cell_type": "code",
   "execution_count": 4,
   "metadata": {},
   "outputs": [],
   "source": [
    "prepare_config(\".\", \"fast.yaml\") # 4 slots per epoch\n",
    "br.reload_package(br)"
   ]
  },
  {
   "cell_type": "code",
   "execution_count": 5,
   "metadata": {},
   "outputs": [
    {
     "output_type": "stream",
     "name": "stdout",
     "text": [
      "4\n"
     ]
    }
   ],
   "source": [
    "from beaconrunner.specs import SLOTS_PER_EPOCH, SECONDS_PER_SLOT\n",
    "print(SLOTS_PER_EPOCH)"
   ]
  },
  {
   "source": [
    "\n",
    "We create our _observers_, to allow us to record interesting metrics at each simulation step."
   ],
   "cell_type": "markdown",
   "metadata": {}
  },
  {
   "cell_type": "code",
   "execution_count": 6,
   "metadata": {},
   "outputs": [],
   "source": [
    "from beaconrunner.specs import get_beacon_proposer_index\n",
    "\n",
    "def current_slot(params, step, sL, s, _input):\n",
    "    return (\"current_slot\", s[\"network\"].validators[0].data.slot)\n",
    "\n",
    "def get_current_epoch_proposers(params, step, sL, s, _input):\n",
    "    network = s[\"network\"]\n",
    "    validators = s[\"network\"].validators\n",
    "    validator = validators[0] # We are just assuming validator 0's view is representative\n",
    "    \n",
    "    current_epoch = br.specs.get_current_epoch(current_state)\n",
    "    start_slot = br.specs.compute_start_slot_at_epoch(current_epoch)\n",
    "    start_state = current_state.copy() if start_slot == current_state.slot else \\ \n",
    "    validator.store.block_states[br.specs.get_block_root(current_state, current_epoch)].copy()\n",
    "\n",
    "    if validator.data.slot % SLOTS_PER_EPOCH == 0:\n",
    "        current_epoch_proposers = []\n",
    "        for slot in range(start_slot, start_slot * SLOTS_PER_EPOCH):\n",
    "            if slot < start_state.slot:\n",
    "                current_proposer_duties += [False]\n",
    "                continue\n",
    "\n",
    "            if start_state.slot < slot:\n",
    "                process_slots(start_state, slot)\n",
    "            \n",
    "            current_proposer_duties.append((slot, br.specs.get_beacon_proposer_index(start_state))\n",
    "            return current_epoch_proposers\n",
    "    else:\n",
    "        return None\n",
    "\n",
    "def get_block_proposer\n",
    "\n",
    "observers = {\n",
    "    \"current_slot\": current_slot,\n",
    "    \"current_epoch_proposers\": get_current_proposer_index,\n",
    "}"
   ]
  },
  {
   "cell_type": "code",
   "execution_count": 7,
   "metadata": {},
   "outputs": [],
   "source": [
    "import beaconrunner.simulator as simulator\n",
    "import beaconrunner.network as network\n",
    "from beaconrunner.validators.ASAPValidator import ASAPValidator\n",
    "\n",
    "num_validators = 4\n",
    "validators = [ASAPValidator(i) for i in range(num_validators)]\n",
    "\n",
    "# Create a genesis state\n",
    "genesis_state = br.simulator.get_genesis_state(validators, seed=\"let's play randao\")\n",
    "# Validators load the state\n",
    "[v.load_state(genesis_state.copy()) for v in validators]\n",
    "\n",
    "simulator.skip_genesis_block(validators) # nothing to propose at genesis, skip to slot 1!"
   ]
  },
  {
   "source": [
    "For simplicity let's just assume a fully connected network, meaning that all validators are connected with each other."
   ],
   "cell_type": "markdown",
   "metadata": {}
  },
  {
   "cell_type": "code",
   "execution_count": 8,
   "metadata": {},
   "outputs": [],
   "source": [
    "set_a = network.NetworkSet(validators=list([0,1,2,3]))\n",
    "net = network.Network(validators = validators, sets = list([set_a]))"
   ]
  },
  {
   "cell_type": "code",
   "execution_count": 9,
   "metadata": {},
   "outputs": [
    {
     "output_type": "stream",
     "name": "stdout",
     "text": [
      "Genesis time = 1578182400 seconds\nStore time = 1578182412 seconds\nCurrent slot = 1\n"
     ]
    }
   ],
   "source": [
    "print(\"Genesis time =\", validators[0].store.genesis_time, \"seconds\")\n",
    "print(\"Store time =\", validators[0].store.time, \"seconds\")\n",
    "print(\"Current slot =\", validators[0].data.slot)"
   ]
  },
  {
   "cell_type": "code",
   "execution_count": 10,
   "metadata": {},
   "outputs": [
    {
     "output_type": "execute_result",
     "data": {
      "text/plain": [
       "[(0, 2), (1, 3), (2, 1), (3, 0)]"
      ]
     },
     "metadata": {},
     "execution_count": 10
    }
   ],
   "source": [
    "attestation_views = [\n",
    "    (validator_index, validator.data.current_attest_slot) for validator_index, validator in enumerate(net.validators)\n",
    "    ]\n",
    "attestation_views"
   ]
  },
  {
   "cell_type": "code",
   "execution_count": 11,
   "metadata": {},
   "outputs": [
    {
     "output_type": "execute_result",
     "data": {
      "text/plain": [
       "[(0, [False, True, False, False]),\n",
       " (1, [False, False, False, True]),\n",
       " (2, [False, False, True, False]),\n",
       " (3, [True, False, False, False])]"
      ]
     },
     "metadata": {},
     "execution_count": 11
    }
   ],
   "source": [
    "proposer_views = [(validator_index, validator.data.current_proposer_duties) \\\n",
    "                  for validator_index, validator in enumerate(net.validators)] \n",
    "proposer_views"
   ]
  },
  {
   "source": [
    "We see that validator 0 is supposed to propose a block in slot 1. So let's go ahead and do that."
   ],
   "cell_type": "markdown",
   "metadata": {}
  },
  {
   "cell_type": "code",
   "execution_count": 12,
   "metadata": {},
   "outputs": [
    {
     "output_type": "stream",
     "name": "stdout",
     "text": [
      "0 proposing block for slot 1\n"
     ]
    }
   ],
   "source": [
    "block = net.validators[0].propose({ \"attestations\": [], \"blocks\": [] })"
   ]
  },
  {
   "cell_type": "code",
   "execution_count": 13,
   "metadata": {},
   "outputs": [],
   "source": [
    "network.disseminate_block(net,3,block)"
   ]
  },
  {
   "source": [
    "Remember that we are assuming a fully connected network, meaning that disseminating the block once should have all validators know about the block. Let's double-check to be sure:"
   ],
   "cell_type": "markdown",
   "metadata": {}
  },
  {
   "cell_type": "code",
   "execution_count": 14,
   "metadata": {},
   "outputs": [
    {
     "output_type": "execute_result",
     "data": {
      "text/plain": [
       "[(0, True), (1, True), (2, True), (3, True)]"
      ]
     },
     "metadata": {},
     "execution_count": 14
    }
   ],
   "source": [
    "received_block = [(i, validators[i].data.received_block) for i in range(4)]\n",
    "received_block"
   ]
  },
  {
   "cell_type": "code",
   "execution_count": 15,
   "metadata": {},
   "outputs": [
    {
     "output_type": "execute_result",
     "data": {
      "text/plain": [
       "BeaconBlock(Container)\n",
       "    slot: Slot = 1\n",
       "    proposer_index: ValidatorIndex = 0\n",
       "    parent_root: Root = 0xad80f24850908baecc5d6b961370c4f6b1a6b0df8093b4bc0843bf5c67beaa6e\n",
       "    state_root: Root = 0x08fd4a56bb2e456203a35f5477919a8c7dbb44b32a648543e7acc3b9ece318a0\n",
       "    body: BeaconBlockBody = BeaconBlockBody(Container)\n",
       "                                randao_reveal: BLSSignature = 0xa6d258974ed36901cde91a15bd73a6f7590a8b0111d42c92cd2cf48bf93ac41115e8ee46508a36b1aa398e6506d5fa0f0596a03a7e2c7b3bec62f037707b7f3eba986c352b0014284a1ef2569c89f823c9cb18a21d6a27cfd3e47162a3149869\n",
       "                                eth1_data: Eth1Data = Eth1Data(Container)\n",
       "                                                          deposit_root: Root = 0x0000000000000000000000000000000000000000000000000000000000000000\n",
       "                                                          deposit_count: uint64 = 0\n",
       "                                                          block_hash: SpecialByteVectorView = 0x0000000000000000000000000000000000000000000000000000000000000000\n",
       "                                graffiti: SpecialByteVectorView = 0x0000000000000000000000000000000000000000000000000000000000000000\n",
       "                                proposer_slashings: List[ProposerSlashing, 16] = List[ProposerSlashing, 16]<<len=0>>()\n",
       "                                attester_slashings: List[AttesterSlashing, 1] = List[AttesterSlashing, 1]<<len=0>>()\n",
       "                                attestations: List[Attestation, 128] = List[Attestation, 128]<<len=0>>()\n",
       "                                deposits: List[Deposit, 16] = List[Deposit, 16]<<len=0>>()\n",
       "                                voluntary_exits: List[SignedVoluntaryExit, 16] = List[SignedVoluntaryExit, 16]<<len=0>>()"
      ]
     },
     "metadata": {},
     "execution_count": 15
    }
   ],
   "source": [
    "block_root = hash_tree_root(block.message) # block.message is of type BeaconBlock\n",
    "net.validators[0].store.blocks[block_root]"
   ]
  },
  {
   "source": [
    "Let's fast forward in time to the beginning of the next slot"
   ],
   "cell_type": "markdown",
   "metadata": {}
  },
  {
   "cell_type": "code",
   "execution_count": 16,
   "metadata": {},
   "outputs": [
    {
     "output_type": "stream",
     "name": "stdout",
     "text": [
      "Validator 0 says this is slot number 2\n"
     ]
    }
   ],
   "source": [
    "for validator in net.validators:\n",
    "    validator.forward_by(SECONDS_PER_SLOT)\n",
    "print(\"Validator 0 says this is slot number {}\".format(net.validators[0].data.slot))"
   ]
  },
  {
   "cell_type": "code",
   "execution_count": 17,
   "metadata": {},
   "outputs": [
    {
     "output_type": "execute_result",
     "data": {
      "text/plain": [
       "   validator_index  committee_slot\n",
       "0                0               2\n",
       "1                1               3\n",
       "2                2               1\n",
       "3                3               0"
      ],
      "text/html": "<div>\n<style scoped>\n    .dataframe tbody tr th:only-of-type {\n        vertical-align: middle;\n    }\n\n    .dataframe tbody tr th {\n        vertical-align: top;\n    }\n\n    .dataframe thead th {\n        text-align: right;\n    }\n</style>\n<table border=\"1\" class=\"dataframe\">\n  <thead>\n    <tr style=\"text-align: right;\">\n      <th></th>\n      <th>validator_index</th>\n      <th>committee_slot</th>\n    </tr>\n  </thead>\n  <tbody>\n    <tr>\n      <th>0</th>\n      <td>0</td>\n      <td>2</td>\n    </tr>\n    <tr>\n      <th>1</th>\n      <td>1</td>\n      <td>3</td>\n    </tr>\n    <tr>\n      <th>2</th>\n      <td>2</td>\n      <td>1</td>\n    </tr>\n    <tr>\n      <th>3</th>\n      <td>3</td>\n      <td>0</td>\n    </tr>\n  </tbody>\n</table>\n</div>"
     },
     "metadata": {},
     "execution_count": 17
    }
   ],
   "source": [
    "committee_slots = [validator.data.current_attest_slot for validator in net.validators]\n",
    "pd.DataFrame({ \"validator_index\": [0, 1, 2, 3], \"committee_slot\": committee_slots})"
   ]
  },
  {
   "source": [
    "According to schedule, at slot 2, validator 0 is expected to attest."
   ],
   "cell_type": "markdown",
   "metadata": {}
  },
  {
   "source": [
    "# Validators only attest 4 seconds into a slot, so let's forward time... \n",
    "for validator in net.validators:\n",
    "    validator.forward_by(4)\n",
    "\n",
    "known_items = network.knowledge_set(net, 2)\n",
    "attestation = net.validators[0].attest(known_items)"
   ],
   "cell_type": "code",
   "metadata": {},
   "execution_count": 18,
   "outputs": []
  },
  {
   "cell_type": "code",
   "execution_count": 19,
   "metadata": {},
   "outputs": [
    {
     "output_type": "stream",
     "name": "stdout",
     "text": [
      "Attestation(Container)\n    aggregation_bits: SpecialBitlistView = Bitlist[64](1 bits: 1)\n    data: AttestationData = AttestationData(Container)\n                                slot: Slot = 2\n                                index: CommitteeIndex = 0\n                                beacon_block_root: Root = 0x8eba4bd57ef3e9e641ec742afa43db26ad4cd6f49798888f4d6cbd322927c76b\n                                source: Checkpoint = Checkpoint(Container)\n                                                         epoch: Epoch = 0\n                                                         root: Root = 0x0000000000000000000000000000000000000000000000000000000000000000\n                                target: Checkpoint = Checkpoint(Container)\n                                                         epoch: Epoch = 0\n                                                         root: Root = 0xad80f24850908baecc5d6b961370c4f6b1a6b0df8093b4bc0843bf5c67beaa6e\n    signature: BLSSignature = 0xb81e6b2d3169f0dbad021589a10958260c0af8963cac9241a7d45a696c6cce47478e6195965018281b07b1d1a142c050053798d3849926ee74c9be176a3bb834c19cfa9fe0ffce86c2205f5fc1aea41a8cab388686b3c25cff84b8096a66958f\n"
     ]
    }
   ],
   "source": [
    "print(attestation)"
   ]
  },
  {
   "cell_type": "code",
   "execution_count": null,
   "metadata": {},
   "outputs": [],
   "source": []
  },
  {
   "cell_type": "code",
   "execution_count": null,
   "metadata": {},
   "outputs": [],
   "source": []
  },
  {
   "cell_type": "code",
   "execution_count": 20,
   "metadata": {},
   "outputs": [],
   "source": [
    "import importlib\n",
    "import types\n",
    "from eth2spec.config.config_util import prepare_config\n",
    "from eth2spec.utils.ssz.ssz_impl import hash_tree_root"
   ]
  },
  {
   "cell_type": "code",
   "execution_count": 21,
   "metadata": {},
   "outputs": [],
   "source": [
    "import os, sys\n",
    "sys.path.insert(1, os.path.realpath(os.path.pardir) + \"/notebooks/thunderdome\")\n",
    "\n",
    "import beaconrunner as br"
   ]
  },
  {
   "cell_type": "code",
   "execution_count": 22,
   "metadata": {},
   "outputs": [],
   "source": [
    "prepare_config(\".\", \"fast.yaml\")\n",
    "br.reload_package(br)"
   ]
  },
  {
   "cell_type": "code",
   "execution_count": 23,
   "metadata": {},
   "outputs": [],
   "source": [
    "def current_slot(params, step, sL, s, _input):\n",
    "    return (\"current_slot\", s[\"network\"].validators[0].data.slot)\n",
    "\n",
    "def average_balance_prudent(params, step, sL, s, _input):\n",
    "    validators = s[\"network\"].validators\n",
    "    validator = validators[0]\n",
    "    head = br.specs.get_head(validator.store)\n",
    "    current_state = validator.store.block_states[head]\n",
    "    current_epoch = br.specs.get_current_epoch(current_state)\n",
    "    prudent_indices = [i for i, v in enumerate(validators) if v.validator_behaviour == \"prudent\"]\n",
    "    prudent_balances = [b for i, b in enumerate(current_state.balances) if i in prudent_indices]\n",
    "    return (\"average_balance_prudent\", br.utils.eth2.gwei_to_eth(sum(prudent_balances) / float(len(prudent_indices))))\n",
    "\n",
    "def average_balance_asap(params, step, sL, s, _input):\n",
    "    validators = s[\"network\"].validators\n",
    "    validator = validators[0]\n",
    "    head = br.specs.get_head(validator.store)\n",
    "    current_state = validator.store.block_states[head]\n",
    "    current_epoch = br.specs.get_current_epoch(current_state)\n",
    "    asap_indices = [i for i, v in enumerate(validators) if v.validator_behaviour == \"asap\"]\n",
    "    asap_balances = [b for i, b in enumerate(current_state.balances) if i in asap_indices]\n",
    "    return (\"average_balance_asap\", br.utils.eth2.gwei_to_eth(sum(asap_balances) / float(len(asap_indices))))\n",
    "\n",
    "observers = {\n",
    "    \"current_slot\": current_slot,\n",
    "    \"average_balance_prudent\": average_balance_prudent,\n",
    "    \"average_balance_asap\": average_balance_asap,\n",
    "}"
   ]
  },
  {
   "cell_type": "code",
   "execution_count": 24,
   "metadata": {},
   "outputs": [],
   "source": [
    "from random import sample\n",
    "from beaconrunner.validators.ASAPValidator import ASAPValidator\n",
    "from beaconrunner.validators.PrudentValidator import PrudentValidator\n",
    "\n",
    "def simulate_once(network_sets, num_run, num_validators, network_update_rate):\n",
    "    # Half our validators are prudent, the others are ASAPs\n",
    "    num_prudent = int(num_validators / 2)\n",
    "\n",
    "    # We sample the position on the p2p network of prudent validators randomly\n",
    "    prudentset = set(sample(range(num_validators), num_prudent))\n",
    "\n",
    "    validators = []\n",
    "\n",
    "    # Initiate validators\n",
    "    for i in range(num_validators):\n",
    "        if i in prudentset:\n",
    "            new_validator = PrudentValidator(i)\n",
    "        else:\n",
    "            new_validator = ASAPValidator(i)\n",
    "        validators.append(new_validator)\n",
    "    \n",
    "    # Create a genesis state\n",
    "    genesis_state = br.simulator.get_genesis_state(validators)\n",
    "    \n",
    "    # Validators load the state\n",
    "    [v.load_state(genesis_state.copy()) for v in validators]\n",
    "\n",
    "    br.simulator.skip_genesis_block(validators) # forward time by SECONDS_PER_SLOT\n",
    "\n",
    "    network = br.network.Network(validators = validators, sets=network_sets)\n",
    "\n",
    "    parameters = br.simulator.SimulationParameters({\n",
    "        \"num_epochs\": 2,\n",
    "        \"num_run\": num_run,\n",
    "        \"frequency\": 1,\n",
    "        \"network_update_rate\": network_update_rate,\n",
    "    })\n",
    "\n",
    "    return br.simulator.simulate(network, parameters, observers)"
   ]
  },
  {
   "cell_type": "code",
   "execution_count": 25,
   "metadata": {},
   "outputs": [
    {
     "output_type": "stream",
     "name": "stdout",
     "text": [
      "will simulate 2 epochs ( 8 slots ) at frequency 1 moves/second\n",
      "total 96 simulation steps\n",
      "\n",
      "                  ___________    ____\n",
      "  ________ __ ___/ / ____/   |  / __ \\\n",
      " / ___/ __` / __  / /   / /| | / / / /\n",
      "/ /__/ /_/ / /_/ / /___/ ___ |/ /_/ /\n",
      "\\___/\\__,_/\\__,_/\\____/_/  |_/_____/\n",
      "by cadCAD\n",
      "\n",
      "Execution Mode: local_proc\n",
      "Configuration Count: 1\n",
      "Dimensions of the first simulation: (Timesteps, Params, Runs, Vars) = (96, 2, 1, 4)\n",
      "Initializing configurations: 100%|██████████| 1/1 [00:00<00:00, 140.66it/s]Execution Method: local_simulations\n",
      "SimIDs   : [0]\n",
      "SubsetIDs: [0]\n",
      "Ns       : [0]\n",
      "ExpIDs   : [0]\n",
      "Execution Mode: single_threaded\n",
      "2 proposing block for slot 1\n",
      "1 proposing block for slot 2\n",
      "1 proposing block for slot 3\n",
      "\n",
      "Epoch is being processed...\n",
      "Epoch is being processed...\n",
      "2 proposing block for slot 4\n",
      "Epoch is being processed...\n",
      "3 proposing block for slot 5\n",
      "2 proposing block for slot 6\n",
      "3 proposing block for slot 7\n",
      "Epoch is being processed...\n",
      "Epoch is being processed...\n",
      "Epoch is being processed...\n",
      "Flattening results:   0%|          | 0/289 [00:00<?, ?it/s]Epoch is being processed...\n",
      "Epoch is being processed...\n",
      "Flattening results:   0%|          | 1/289 [00:00<00:00, 290.18it/s]Total execution time: 0.76s\n",
      "\n"
     ]
    }
   ],
   "source": [
    "import pandas as pd\n",
    "\n",
    "num_validators = 4\n",
    "\n",
    "# Create the network peers\n",
    "set_a = br.network.NetworkSet(validators=list(range(0, int(num_validators * 2 / 3.0))))\n",
    "set_b = br.network.NetworkSet(validators=list(range(int(num_validators / 2.0), num_validators)))\n",
    "network_sets = list([set_a, set_b])\n",
    "\n",
    "num_runs = 1\n",
    "network_update_rate = 0.25\n",
    "\n",
    "df = pd.concat([simulate_once(network_sets, num_run, num_validators, network_update_rate) for num_run in range(num_runs)])"
   ]
  },
  {
   "cell_type": "code",
   "execution_count": null,
   "metadata": {},
   "outputs": [],
   "source": []
  },
  {
   "cell_type": "code",
   "execution_count": null,
   "metadata": {},
   "outputs": [],
   "source": []
  },
  {
   "cell_type": "code",
   "execution_count": null,
   "metadata": {},
   "outputs": [],
   "source": []
  },
  {
   "source": [
    "### Experiment A\n",
    "In slot 30 of epoch 0, forward the state to slot 31 (assuming no empty slot), then to slot 0 of epoch 1, record the proposer"
   ],
   "cell_type": "markdown",
   "metadata": {}
  },
  {
   "source": [
    "### Experiment B\n",
    "In slot 31 of epoch 0, a block was proposed for slot 31, then forward the state to slot 0 of epoch 1, record the proposer.\n",
    "\n",
    "Are the proposers different between experiment A and B?"
   ],
   "cell_type": "markdown",
   "metadata": {}
  },
  {
   "source": [
    "### Experiment C\n",
    "\n",
    "The block at slot 31 of epoch 0 has a slashing event. Forward the state to slot 0 of epoch 1. Is it still the same proposer?\n",
    "\n",
    "Can we confirm the intuition that the proposer in experiment C is different than in experiment A&B?"
   ],
   "cell_type": "markdown",
   "metadata": {}
  }
 ]
}